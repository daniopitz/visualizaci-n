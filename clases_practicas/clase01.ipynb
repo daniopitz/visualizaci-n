{
 "cells": [
  {
   "cell_type": "markdown",
   "metadata": {},
   "source": [
    "Por Daniela Opitz. dopitz@udd.cl.\n",
    "\n",
    "Actualizado: 01 de marzo de 2023.\n",
    "\n",
    "# Bienvenida al Curso de Visualización de la Información\n",
    "\n",
    "Bienvenidos al Taller de Visualización de la Información en la Universidad del Desarrollo. En este notebook, revisaremos los conceptos básicos de la biblioteca Pandas en Python, una herramienta esencial para la manipulación y análisis de datos. Aprenderemos a cargar, explorar y manipular datasets para prepararnos para visualizaciones más avanzadas.\n"
   ]
  },
  {
   "cell_type": "code",
   "execution_count": 1,
   "metadata": {
    "executionInfo": {
     "elapsed": 253,
     "status": "ok",
     "timestamp": 1709305217352,
     "user": {
      "displayName": "Daniela Opitz (Dani)",
      "userId": "17509437660534230857"
     },
     "user_tz": 180
    },
    "id": "D8VzqknbMWou"
   },
   "outputs": [],
   "source": [
    "import pandas as pd"
   ]
  },
  {
   "cell_type": "markdown",
   "metadata": {
    "id": "OVPjRpxKMWot"
   },
   "source": [
    "# Pandas\n",
    "\n",
    "* Pandas es un módulo de Python para realizar análisis de datos http://pandas.pydata.org/\n",
    "\n",
    "\n",
    "* Esta presentación basada en el trabajo de Jake VanDerPlas https://github.com/jakevdp/PythonDataScienceHandbook. Bajo licencia CC0."
   ]
  },
  {
   "cell_type": "markdown",
   "metadata": {
    "id": "a-zZuInGMWp_"
   },
   "source": [
    "# 1.0 Data Frames\n",
    "\n",
    "* Es una tabla (si, como las de Excel), compuesta por varias columnas. Las columnas también se llaman series."
   ]
  },
  {
   "cell_type": "code",
   "execution_count": 2,
   "metadata": {
    "colab": {
     "base_uri": "https://localhost:8080/",
     "height": 206
    },
    "executionInfo": {
     "elapsed": 338,
     "status": "ok",
     "timestamp": 1709305217938,
     "user": {
      "displayName": "Daniela Opitz (Dani)",
      "userId": "17509437660534230857"
     },
     "user_tz": 180
    },
    "id": "n3hpmB_FMWp_",
    "outputId": "dc7d2a32-8143-48f5-ca5a-c58cd13d17ff"
   },
   "outputs": [
    {
     "data": {
      "text/html": [
       "<div>\n",
       "<style scoped>\n",
       "    .dataframe tbody tr th:only-of-type {\n",
       "        vertical-align: middle;\n",
       "    }\n",
       "\n",
       "    .dataframe tbody tr th {\n",
       "        vertical-align: top;\n",
       "    }\n",
       "\n",
       "    .dataframe thead th {\n",
       "        text-align: right;\n",
       "    }\n",
       "</style>\n",
       "<table border=\"1\" class=\"dataframe\">\n",
       "  <thead>\n",
       "    <tr style=\"text-align: right;\">\n",
       "      <th></th>\n",
       "      <th>city</th>\n",
       "      <th>area</th>\n",
       "      <th>pop</th>\n",
       "    </tr>\n",
       "  </thead>\n",
       "  <tbody>\n",
       "    <tr>\n",
       "      <th>0</th>\n",
       "      <td>California</td>\n",
       "      <td>423967</td>\n",
       "      <td>38332521</td>\n",
       "    </tr>\n",
       "    <tr>\n",
       "      <th>1</th>\n",
       "      <td>Texas</td>\n",
       "      <td>695662</td>\n",
       "      <td>26448193</td>\n",
       "    </tr>\n",
       "    <tr>\n",
       "      <th>2</th>\n",
       "      <td>New York</td>\n",
       "      <td>141297</td>\n",
       "      <td>19651127</td>\n",
       "    </tr>\n",
       "    <tr>\n",
       "      <th>3</th>\n",
       "      <td>Florida</td>\n",
       "      <td>170312</td>\n",
       "      <td>19552860</td>\n",
       "    </tr>\n",
       "    <tr>\n",
       "      <th>4</th>\n",
       "      <td>Alabama</td>\n",
       "      <td>149995</td>\n",
       "      <td>12882135</td>\n",
       "    </tr>\n",
       "  </tbody>\n",
       "</table>\n",
       "</div>"
      ],
      "text/plain": [
       "         city    area       pop\n",
       "0  California  423967  38332521\n",
       "1       Texas  695662  26448193\n",
       "2    New York  141297  19651127\n",
       "3     Florida  170312  19552860\n",
       "4     Alabama  149995  12882135"
      ]
     },
     "execution_count": 2,
     "metadata": {},
     "output_type": "execute_result"
    }
   ],
   "source": [
    "city = pd.Series(['California','Texas','New York', 'Florida','Alabama'])\n",
    "area = pd.Series([423967, 695662, 141297,170312, 149995])\n",
    "pop  = pd.Series([38332521, 26448193, 19651127, 19552860, 12882135])\n",
    "\n",
    "df   = pd.DataFrame({'city':city, 'area':area, 'pop':pop})\n",
    "df"
   ]
  },
  {
   "cell_type": "markdown",
   "metadata": {
    "id": "b04OCosHMWqB"
   },
   "source": [
    "* Las columnas se pueden seleccionar con el operador corchete."
   ]
  },
  {
   "cell_type": "code",
   "execution_count": 3,
   "metadata": {
    "colab": {
     "base_uri": "https://localhost:8080/"
    },
    "executionInfo": {
     "elapsed": 11,
     "status": "ok",
     "timestamp": 1709305217938,
     "user": {
      "displayName": "Daniela Opitz (Dani)",
      "userId": "17509437660534230857"
     },
     "user_tz": 180
    },
    "id": "6HEwyngWa6BK",
    "outputId": "1e28727b-64b2-46e3-9f5e-759ffe4e1deb"
   },
   "outputs": [
    {
     "data": {
      "text/plain": [
       "0    423967\n",
       "1    695662\n",
       "2    141297\n",
       "3    170312\n",
       "4    149995\n",
       "Name: area, dtype: int64"
      ]
     },
     "execution_count": 3,
     "metadata": {},
     "output_type": "execute_result"
    }
   ],
   "source": [
    "df['area']"
   ]
  },
  {
   "cell_type": "markdown",
   "metadata": {
    "id": "XIBStUYba6BK"
   },
   "source": [
    "* O así"
   ]
  },
  {
   "cell_type": "code",
   "execution_count": 4,
   "metadata": {
    "colab": {
     "base_uri": "https://localhost:8080/"
    },
    "executionInfo": {
     "elapsed": 10,
     "status": "ok",
     "timestamp": 1709305217938,
     "user": {
      "displayName": "Daniela Opitz (Dani)",
      "userId": "17509437660534230857"
     },
     "user_tz": 180
    },
    "id": "G9bEdE7HMWqE",
    "outputId": "e487daad-4eea-459d-e26b-9dfeaaee8469"
   },
   "outputs": [
    {
     "data": {
      "text/plain": [
       "0    423967\n",
       "1    695662\n",
       "2    141297\n",
       "3    170312\n",
       "4    149995\n",
       "Name: area, dtype: int64"
      ]
     },
     "execution_count": 4,
     "metadata": {},
     "output_type": "execute_result"
    }
   ],
   "source": [
    "df.area"
   ]
  },
  {
   "cell_type": "code",
   "execution_count": 5,
   "metadata": {
    "colab": {
     "base_uri": "https://localhost:8080/",
     "height": 206
    },
    "executionInfo": {
     "elapsed": 9,
     "status": "ok",
     "timestamp": 1709305217938,
     "user": {
      "displayName": "Daniela Opitz (Dani)",
      "userId": "17509437660534230857"
     },
     "user_tz": 180
    },
    "id": "I1LOn0_Aa6BL",
    "outputId": "589a2495-460f-4c0a-d857-87f200e92193"
   },
   "outputs": [
    {
     "data": {
      "text/html": [
       "<div>\n",
       "<style scoped>\n",
       "    .dataframe tbody tr th:only-of-type {\n",
       "        vertical-align: middle;\n",
       "    }\n",
       "\n",
       "    .dataframe tbody tr th {\n",
       "        vertical-align: top;\n",
       "    }\n",
       "\n",
       "    .dataframe thead th {\n",
       "        text-align: right;\n",
       "    }\n",
       "</style>\n",
       "<table border=\"1\" class=\"dataframe\">\n",
       "  <thead>\n",
       "    <tr style=\"text-align: right;\">\n",
       "      <th></th>\n",
       "      <th>area</th>\n",
       "      <th>pop</th>\n",
       "    </tr>\n",
       "  </thead>\n",
       "  <tbody>\n",
       "    <tr>\n",
       "      <th>0</th>\n",
       "      <td>423967</td>\n",
       "      <td>38332521</td>\n",
       "    </tr>\n",
       "    <tr>\n",
       "      <th>1</th>\n",
       "      <td>695662</td>\n",
       "      <td>26448193</td>\n",
       "    </tr>\n",
       "    <tr>\n",
       "      <th>2</th>\n",
       "      <td>141297</td>\n",
       "      <td>19651127</td>\n",
       "    </tr>\n",
       "    <tr>\n",
       "      <th>3</th>\n",
       "      <td>170312</td>\n",
       "      <td>19552860</td>\n",
       "    </tr>\n",
       "    <tr>\n",
       "      <th>4</th>\n",
       "      <td>149995</td>\n",
       "      <td>12882135</td>\n",
       "    </tr>\n",
       "  </tbody>\n",
       "</table>\n",
       "</div>"
      ],
      "text/plain": [
       "     area       pop\n",
       "0  423967  38332521\n",
       "1  695662  26448193\n",
       "2  141297  19651127\n",
       "3  170312  19552860\n",
       "4  149995  12882135"
      ]
     },
     "execution_count": 5,
     "metadata": {},
     "output_type": "execute_result"
    }
   ],
   "source": [
    "df[['area', 'pop']]"
   ]
  },
  {
   "cell_type": "markdown",
   "metadata": {
    "id": "P5uD5H3vMWqH"
   },
   "source": [
    "* Y como cada columna es una Serie... podemos realizar operaciones de Series!"
   ]
  },
  {
   "cell_type": "code",
   "execution_count": 6,
   "metadata": {
    "colab": {
     "base_uri": "https://localhost:8080/"
    },
    "executionInfo": {
     "elapsed": 9,
     "status": "ok",
     "timestamp": 1709305217938,
     "user": {
      "displayName": "Daniela Opitz (Dani)",
      "userId": "17509437660534230857"
     },
     "user_tz": 180
    },
    "id": "6ggG8FjfMWqI",
    "outputId": "6ac7f2e5-eb7e-40db-ec7b-d63fbcd02aed"
   },
   "outputs": [
    {
     "data": {
      "text/plain": [
       "0    423.967\n",
       "1    695.662\n",
       "2    141.297\n",
       "3    170.312\n",
       "4    149.995\n",
       "Name: area, dtype: float64"
      ]
     },
     "execution_count": 6,
     "metadata": {},
     "output_type": "execute_result"
    }
   ],
   "source": [
    "df['area'] / 1000"
   ]
  },
  {
   "cell_type": "markdown",
   "metadata": {
    "id": "L6U7DrMSMWqM"
   },
   "source": [
    "## Consultando datos en un Dataframe"
   ]
  },
  {
   "cell_type": "code",
   "execution_count": 7,
   "metadata": {
    "colab": {
     "base_uri": "https://localhost:8080/",
     "height": 206
    },
    "executionInfo": {
     "elapsed": 8,
     "status": "ok",
     "timestamp": 1709305217938,
     "user": {
      "displayName": "Daniela Opitz (Dani)",
      "userId": "17509437660534230857"
     },
     "user_tz": 180
    },
    "id": "5cOmBts_MWqN",
    "outputId": "bae4b4d5-31ce-428a-9c43-6907c7f43d85"
   },
   "outputs": [
    {
     "data": {
      "text/html": [
       "<div>\n",
       "<style scoped>\n",
       "    .dataframe tbody tr th:only-of-type {\n",
       "        vertical-align: middle;\n",
       "    }\n",
       "\n",
       "    .dataframe tbody tr th {\n",
       "        vertical-align: top;\n",
       "    }\n",
       "\n",
       "    .dataframe thead th {\n",
       "        text-align: right;\n",
       "    }\n",
       "</style>\n",
       "<table border=\"1\" class=\"dataframe\">\n",
       "  <thead>\n",
       "    <tr style=\"text-align: right;\">\n",
       "      <th></th>\n",
       "      <th>city</th>\n",
       "      <th>area</th>\n",
       "      <th>pop</th>\n",
       "    </tr>\n",
       "  </thead>\n",
       "  <tbody>\n",
       "    <tr>\n",
       "      <th>0</th>\n",
       "      <td>California</td>\n",
       "      <td>423967</td>\n",
       "      <td>38332521</td>\n",
       "    </tr>\n",
       "    <tr>\n",
       "      <th>1</th>\n",
       "      <td>Texas</td>\n",
       "      <td>695662</td>\n",
       "      <td>26448193</td>\n",
       "    </tr>\n",
       "    <tr>\n",
       "      <th>2</th>\n",
       "      <td>New York</td>\n",
       "      <td>141297</td>\n",
       "      <td>19651127</td>\n",
       "    </tr>\n",
       "    <tr>\n",
       "      <th>3</th>\n",
       "      <td>Florida</td>\n",
       "      <td>170312</td>\n",
       "      <td>19552860</td>\n",
       "    </tr>\n",
       "    <tr>\n",
       "      <th>4</th>\n",
       "      <td>Alabama</td>\n",
       "      <td>149995</td>\n",
       "      <td>12882135</td>\n",
       "    </tr>\n",
       "  </tbody>\n",
       "</table>\n",
       "</div>"
      ],
      "text/plain": [
       "         city    area       pop\n",
       "0  California  423967  38332521\n",
       "1       Texas  695662  26448193\n",
       "2    New York  141297  19651127\n",
       "3     Florida  170312  19552860\n",
       "4     Alabama  149995  12882135"
      ]
     },
     "execution_count": 7,
     "metadata": {},
     "output_type": "execute_result"
    }
   ],
   "source": [
    "df.head()"
   ]
  },
  {
   "cell_type": "code",
   "execution_count": 8,
   "metadata": {
    "colab": {
     "base_uri": "https://localhost:8080/",
     "height": 206
    },
    "executionInfo": {
     "elapsed": 7,
     "status": "ok",
     "timestamp": 1709305217938,
     "user": {
      "displayName": "Daniela Opitz (Dani)",
      "userId": "17509437660534230857"
     },
     "user_tz": 180
    },
    "id": "tE9q8L7gMWqS",
    "outputId": "f681efe7-4d52-40f3-c320-c623f56f2dae"
   },
   "outputs": [
    {
     "data": {
      "text/html": [
       "<div>\n",
       "<style scoped>\n",
       "    .dataframe tbody tr th:only-of-type {\n",
       "        vertical-align: middle;\n",
       "    }\n",
       "\n",
       "    .dataframe tbody tr th {\n",
       "        vertical-align: top;\n",
       "    }\n",
       "\n",
       "    .dataframe thead th {\n",
       "        text-align: right;\n",
       "    }\n",
       "</style>\n",
       "<table border=\"1\" class=\"dataframe\">\n",
       "  <thead>\n",
       "    <tr style=\"text-align: right;\">\n",
       "      <th></th>\n",
       "      <th>city</th>\n",
       "      <th>area</th>\n",
       "      <th>pop</th>\n",
       "    </tr>\n",
       "  </thead>\n",
       "  <tbody>\n",
       "    <tr>\n",
       "      <th>0</th>\n",
       "      <td>California</td>\n",
       "      <td>423967</td>\n",
       "      <td>38332521</td>\n",
       "    </tr>\n",
       "    <tr>\n",
       "      <th>1</th>\n",
       "      <td>Texas</td>\n",
       "      <td>695662</td>\n",
       "      <td>26448193</td>\n",
       "    </tr>\n",
       "    <tr>\n",
       "      <th>2</th>\n",
       "      <td>New York</td>\n",
       "      <td>141297</td>\n",
       "      <td>19651127</td>\n",
       "    </tr>\n",
       "    <tr>\n",
       "      <th>3</th>\n",
       "      <td>Florida</td>\n",
       "      <td>170312</td>\n",
       "      <td>19552860</td>\n",
       "    </tr>\n",
       "    <tr>\n",
       "      <th>4</th>\n",
       "      <td>Alabama</td>\n",
       "      <td>149995</td>\n",
       "      <td>12882135</td>\n",
       "    </tr>\n",
       "  </tbody>\n",
       "</table>\n",
       "</div>"
      ],
      "text/plain": [
       "         city    area       pop\n",
       "0  California  423967  38332521\n",
       "1       Texas  695662  26448193\n",
       "2    New York  141297  19651127\n",
       "3     Florida  170312  19552860\n",
       "4     Alabama  149995  12882135"
      ]
     },
     "execution_count": 8,
     "metadata": {},
     "output_type": "execute_result"
    }
   ],
   "source": [
    "df.tail()"
   ]
  },
  {
   "cell_type": "markdown",
   "metadata": {
    "id": "NkZXNJJLMWqX"
   },
   "source": [
    "* Podemos usar el operador loc[] para recuperar una fila:"
   ]
  },
  {
   "cell_type": "code",
   "execution_count": 9,
   "metadata": {
    "colab": {
     "base_uri": "https://localhost:8080/"
    },
    "executionInfo": {
     "elapsed": 7,
     "status": "ok",
     "timestamp": 1709305217938,
     "user": {
      "displayName": "Daniela Opitz (Dani)",
      "userId": "17509437660534230857"
     },
     "user_tz": 180
    },
    "id": "bqqUbnygMWqY",
    "outputId": "88709196-36d0-4754-8598-71902c8f2cc3"
   },
   "outputs": [
    {
     "data": {
      "text/plain": [
       "city    New York\n",
       "area      141297\n",
       "pop     19651127\n",
       "Name: 2, dtype: object"
      ]
     },
     "execution_count": 9,
     "metadata": {},
     "output_type": "execute_result"
    }
   ],
   "source": [
    "df.loc[2]"
   ]
  },
  {
   "cell_type": "markdown",
   "metadata": {
    "id": "yOUFLzR0MWqc"
   },
   "source": [
    "## Manipulando columnas"
   ]
  },
  {
   "cell_type": "markdown",
   "metadata": {
    "id": "G3_5_vDzMWqc"
   },
   "source": [
    "* Agregar una columna:"
   ]
  },
  {
   "cell_type": "code",
   "execution_count": 10,
   "metadata": {
    "colab": {
     "base_uri": "https://localhost:8080/",
     "height": 206
    },
    "executionInfo": {
     "elapsed": 6,
     "status": "ok",
     "timestamp": 1709305217938,
     "user": {
      "displayName": "Daniela Opitz (Dani)",
      "userId": "17509437660534230857"
     },
     "user_tz": 180
    },
    "id": "PxbIHgl9MWqd",
    "outputId": "462514dc-d184-4bbd-c53b-16a7943a02ed"
   },
   "outputs": [
    {
     "data": {
      "text/html": [
       "<div>\n",
       "<style scoped>\n",
       "    .dataframe tbody tr th:only-of-type {\n",
       "        vertical-align: middle;\n",
       "    }\n",
       "\n",
       "    .dataframe tbody tr th {\n",
       "        vertical-align: top;\n",
       "    }\n",
       "\n",
       "    .dataframe thead th {\n",
       "        text-align: right;\n",
       "    }\n",
       "</style>\n",
       "<table border=\"1\" class=\"dataframe\">\n",
       "  <thead>\n",
       "    <tr style=\"text-align: right;\">\n",
       "      <th></th>\n",
       "      <th>city</th>\n",
       "      <th>area</th>\n",
       "      <th>pop</th>\n",
       "      <th>density</th>\n",
       "    </tr>\n",
       "  </thead>\n",
       "  <tbody>\n",
       "    <tr>\n",
       "      <th>0</th>\n",
       "      <td>California</td>\n",
       "      <td>423967</td>\n",
       "      <td>38332521</td>\n",
       "      <td>90.413926</td>\n",
       "    </tr>\n",
       "    <tr>\n",
       "      <th>1</th>\n",
       "      <td>Texas</td>\n",
       "      <td>695662</td>\n",
       "      <td>26448193</td>\n",
       "      <td>38.018740</td>\n",
       "    </tr>\n",
       "    <tr>\n",
       "      <th>2</th>\n",
       "      <td>New York</td>\n",
       "      <td>141297</td>\n",
       "      <td>19651127</td>\n",
       "      <td>139.076746</td>\n",
       "    </tr>\n",
       "    <tr>\n",
       "      <th>3</th>\n",
       "      <td>Florida</td>\n",
       "      <td>170312</td>\n",
       "      <td>19552860</td>\n",
       "      <td>114.806121</td>\n",
       "    </tr>\n",
       "    <tr>\n",
       "      <th>4</th>\n",
       "      <td>Alabama</td>\n",
       "      <td>149995</td>\n",
       "      <td>12882135</td>\n",
       "      <td>85.883763</td>\n",
       "    </tr>\n",
       "  </tbody>\n",
       "</table>\n",
       "</div>"
      ],
      "text/plain": [
       "         city    area       pop     density\n",
       "0  California  423967  38332521   90.413926\n",
       "1       Texas  695662  26448193   38.018740\n",
       "2    New York  141297  19651127  139.076746\n",
       "3     Florida  170312  19552860  114.806121\n",
       "4     Alabama  149995  12882135   85.883763"
      ]
     },
     "execution_count": 10,
     "metadata": {},
     "output_type": "execute_result"
    }
   ],
   "source": [
    "# Puedes asignar nuevas columnas\n",
    "df['density'] = df['pop'] / df['area']\n",
    "df"
   ]
  },
  {
   "cell_type": "markdown",
   "metadata": {
    "id": "K5e2ZKhlMWqg"
   },
   "source": [
    "* Y borrar columnas:"
   ]
  },
  {
   "cell_type": "code",
   "execution_count": 11,
   "metadata": {
    "colab": {
     "base_uri": "https://localhost:8080/",
     "height": 206
    },
    "executionInfo": {
     "elapsed": 7,
     "status": "ok",
     "timestamp": 1709305217939,
     "user": {
      "displayName": "Daniela Opitz (Dani)",
      "userId": "17509437660534230857"
     },
     "user_tz": 180
    },
    "id": "f42bg86lMWqg",
    "outputId": "6d1a22e2-0064-49b7-b971-5bfd9f5835cf"
   },
   "outputs": [
    {
     "data": {
      "text/html": [
       "<div>\n",
       "<style scoped>\n",
       "    .dataframe tbody tr th:only-of-type {\n",
       "        vertical-align: middle;\n",
       "    }\n",
       "\n",
       "    .dataframe tbody tr th {\n",
       "        vertical-align: top;\n",
       "    }\n",
       "\n",
       "    .dataframe thead th {\n",
       "        text-align: right;\n",
       "    }\n",
       "</style>\n",
       "<table border=\"1\" class=\"dataframe\">\n",
       "  <thead>\n",
       "    <tr style=\"text-align: right;\">\n",
       "      <th></th>\n",
       "      <th>city</th>\n",
       "      <th>pop</th>\n",
       "      <th>density</th>\n",
       "    </tr>\n",
       "  </thead>\n",
       "  <tbody>\n",
       "    <tr>\n",
       "      <th>0</th>\n",
       "      <td>California</td>\n",
       "      <td>38332521</td>\n",
       "      <td>90.413926</td>\n",
       "    </tr>\n",
       "    <tr>\n",
       "      <th>1</th>\n",
       "      <td>Texas</td>\n",
       "      <td>26448193</td>\n",
       "      <td>38.018740</td>\n",
       "    </tr>\n",
       "    <tr>\n",
       "      <th>2</th>\n",
       "      <td>New York</td>\n",
       "      <td>19651127</td>\n",
       "      <td>139.076746</td>\n",
       "    </tr>\n",
       "    <tr>\n",
       "      <th>3</th>\n",
       "      <td>Florida</td>\n",
       "      <td>19552860</td>\n",
       "      <td>114.806121</td>\n",
       "    </tr>\n",
       "    <tr>\n",
       "      <th>4</th>\n",
       "      <td>Alabama</td>\n",
       "      <td>12882135</td>\n",
       "      <td>85.883763</td>\n",
       "    </tr>\n",
       "  </tbody>\n",
       "</table>\n",
       "</div>"
      ],
      "text/plain": [
       "         city       pop     density\n",
       "0  California  38332521   90.413926\n",
       "1       Texas  26448193   38.018740\n",
       "2    New York  19651127  139.076746\n",
       "3     Florida  19552860  114.806121\n",
       "4     Alabama  12882135   85.883763"
      ]
     },
     "execution_count": 11,
     "metadata": {},
     "output_type": "execute_result"
    }
   ],
   "source": [
    "copy_data = df.drop(['area'], axis='columns')\n",
    "copy_data"
   ]
  },
  {
   "cell_type": "markdown",
   "metadata": {
    "id": "_7w14Y1zMWqi"
   },
   "source": [
    "## Cargando y filtrando datos"
   ]
  },
  {
   "cell_type": "markdown",
   "metadata": {
    "id": "U-7uht4YMWqj"
   },
   "source": [
    "* Pandas también puede abrir varios tipos de archivo, nosotros usaremos CSV.\n",
    "* Más info sobre otro formatos (excel, json, xml...) https://pandas.pydata.org/pandas-docs/stable/io.html"
   ]
  },
  {
   "cell_type": "code",
   "execution_count": 12,
   "metadata": {
    "colab": {
     "base_uri": "https://localhost:8080/"
    },
    "executionInfo": {
     "elapsed": 987,
     "status": "ok",
     "timestamp": 1709305218920,
     "user": {
      "displayName": "Daniela Opitz (Dani)",
      "userId": "17509437660534230857"
     },
     "user_tz": 180
    },
    "id": "J5NtEe5BbGxh",
    "outputId": "0d146794-0227-4e56-8aac-84eac4073b0b"
   },
   "outputs": [],
   "source": [
    "try:\n",
    "    import google.colab\n",
    "    !curl -L -o 2020-05-11-CasosConfirmados.csv 'https://www.dropbox.com/s/v434n81nv0pibk8/2020-05-11-CasosConfirmados.csv?dl=1'\n",
    "except:\n",
    "    pass"
   ]
  },
  {
   "cell_type": "code",
   "execution_count": 13,
   "metadata": {
    "colab": {
     "base_uri": "https://localhost:8080/",
     "height": 206
    },
    "executionInfo": {
     "elapsed": 8,
     "status": "ok",
     "timestamp": 1709305218920,
     "user": {
      "displayName": "Daniela Opitz (Dani)",
      "userId": "17509437660534230857"
     },
     "user_tz": 180
    },
    "id": "Hc_U4KHOMWqj",
    "outputId": "3a86461d-6cc3-4e6a-d1dd-cee8c12078f1",
    "scrolled": true
   },
   "outputs": [
    {
     "data": {
      "text/html": [
       "<div>\n",
       "<style scoped>\n",
       "    .dataframe tbody tr th:only-of-type {\n",
       "        vertical-align: middle;\n",
       "    }\n",
       "\n",
       "    .dataframe tbody tr th {\n",
       "        vertical-align: top;\n",
       "    }\n",
       "\n",
       "    .dataframe thead th {\n",
       "        text-align: right;\n",
       "    }\n",
       "</style>\n",
       "<table border=\"1\" class=\"dataframe\">\n",
       "  <thead>\n",
       "    <tr style=\"text-align: right;\">\n",
       "      <th></th>\n",
       "      <th>Region</th>\n",
       "      <th>Codigo region</th>\n",
       "      <th>Comuna</th>\n",
       "      <th>Codigo comuna</th>\n",
       "      <th>Poblacion</th>\n",
       "      <th>Casos Confirmados</th>\n",
       "    </tr>\n",
       "  </thead>\n",
       "  <tbody>\n",
       "    <tr>\n",
       "      <th>0</th>\n",
       "      <td>Arica y Parinacota</td>\n",
       "      <td>15</td>\n",
       "      <td>Arica</td>\n",
       "      <td>15101</td>\n",
       "      <td>247552.0</td>\n",
       "      <td>353.0</td>\n",
       "    </tr>\n",
       "    <tr>\n",
       "      <th>1</th>\n",
       "      <td>Arica y Parinacota</td>\n",
       "      <td>15</td>\n",
       "      <td>Camarones</td>\n",
       "      <td>15102</td>\n",
       "      <td>1233.0</td>\n",
       "      <td>0.0</td>\n",
       "    </tr>\n",
       "    <tr>\n",
       "      <th>2</th>\n",
       "      <td>Arica y Parinacota</td>\n",
       "      <td>15</td>\n",
       "      <td>General Lagos</td>\n",
       "      <td>15202</td>\n",
       "      <td>810.0</td>\n",
       "      <td>0.0</td>\n",
       "    </tr>\n",
       "    <tr>\n",
       "      <th>3</th>\n",
       "      <td>Arica y Parinacota</td>\n",
       "      <td>15</td>\n",
       "      <td>Putre</td>\n",
       "      <td>15201</td>\n",
       "      <td>2515.0</td>\n",
       "      <td>0.0</td>\n",
       "    </tr>\n",
       "    <tr>\n",
       "      <th>4</th>\n",
       "      <td>Tarapacá</td>\n",
       "      <td>1</td>\n",
       "      <td>Alto Hospicio</td>\n",
       "      <td>1107</td>\n",
       "      <td>129999.0</td>\n",
       "      <td>188.0</td>\n",
       "    </tr>\n",
       "  </tbody>\n",
       "</table>\n",
       "</div>"
      ],
      "text/plain": [
       "               Region  Codigo region         Comuna  Codigo comuna  Poblacion  \\\n",
       "0  Arica y Parinacota             15          Arica          15101   247552.0   \n",
       "1  Arica y Parinacota             15      Camarones          15102     1233.0   \n",
       "2  Arica y Parinacota             15  General Lagos          15202      810.0   \n",
       "3  Arica y Parinacota             15          Putre          15201     2515.0   \n",
       "4            Tarapacá              1  Alto Hospicio           1107   129999.0   \n",
       "\n",
       "   Casos Confirmados  \n",
       "0              353.0  \n",
       "1                0.0  \n",
       "2                0.0  \n",
       "3                0.0  \n",
       "4              188.0  "
      ]
     },
     "execution_count": 13,
     "metadata": {},
     "output_type": "execute_result"
    }
   ],
   "source": [
    "#Si está usando Google Colab\n",
    "path_file='2020-05-11-CasosConfirmados.csv'\n",
    "\n",
    "#Si no está usando Google Colab\n",
    "\n",
    "#path_file='data/2020-05-11-CasosConfirmados.csv'\n",
    "\n",
    "df = pd.read_csv(path_file)\n",
    "df.head()"
   ]
  },
  {
   "cell_type": "code",
   "execution_count": 14,
   "metadata": {
    "colab": {
     "base_uri": "https://localhost:8080/",
     "height": 423
    },
    "executionInfo": {
     "elapsed": 7,
     "status": "ok",
     "timestamp": 1709305218920,
     "user": {
      "displayName": "Daniela Opitz (Dani)",
      "userId": "17509437660534230857"
     },
     "user_tz": 180
    },
    "id": "JyDK8yIBa6BP",
    "outputId": "a42b50d2-a78e-4cc8-e0cc-d7b3d370efc8"
   },
   "outputs": [
    {
     "data": {
      "text/html": [
       "<div>\n",
       "<style scoped>\n",
       "    .dataframe tbody tr th:only-of-type {\n",
       "        vertical-align: middle;\n",
       "    }\n",
       "\n",
       "    .dataframe tbody tr th {\n",
       "        vertical-align: top;\n",
       "    }\n",
       "\n",
       "    .dataframe thead th {\n",
       "        text-align: right;\n",
       "    }\n",
       "</style>\n",
       "<table border=\"1\" class=\"dataframe\">\n",
       "  <thead>\n",
       "    <tr style=\"text-align: right;\">\n",
       "      <th></th>\n",
       "      <th>Region</th>\n",
       "      <th>Codigo region</th>\n",
       "      <th>Comuna</th>\n",
       "      <th>Codigo comuna</th>\n",
       "      <th>Poblacion</th>\n",
       "      <th>Casos Confirmados</th>\n",
       "    </tr>\n",
       "  </thead>\n",
       "  <tbody>\n",
       "    <tr>\n",
       "      <th>0</th>\n",
       "      <td>Arica y Parinacota</td>\n",
       "      <td>15</td>\n",
       "      <td>Arica</td>\n",
       "      <td>15101</td>\n",
       "      <td>247552.0</td>\n",
       "      <td>353.0</td>\n",
       "    </tr>\n",
       "    <tr>\n",
       "      <th>1</th>\n",
       "      <td>Arica y Parinacota</td>\n",
       "      <td>15</td>\n",
       "      <td>Camarones</td>\n",
       "      <td>15102</td>\n",
       "      <td>1233.0</td>\n",
       "      <td>0.0</td>\n",
       "    </tr>\n",
       "    <tr>\n",
       "      <th>2</th>\n",
       "      <td>Arica y Parinacota</td>\n",
       "      <td>15</td>\n",
       "      <td>General Lagos</td>\n",
       "      <td>15202</td>\n",
       "      <td>810.0</td>\n",
       "      <td>0.0</td>\n",
       "    </tr>\n",
       "    <tr>\n",
       "      <th>3</th>\n",
       "      <td>Arica y Parinacota</td>\n",
       "      <td>15</td>\n",
       "      <td>Putre</td>\n",
       "      <td>15201</td>\n",
       "      <td>2515.0</td>\n",
       "      <td>0.0</td>\n",
       "    </tr>\n",
       "    <tr>\n",
       "      <th>4</th>\n",
       "      <td>Tarapacá</td>\n",
       "      <td>1</td>\n",
       "      <td>Alto Hospicio</td>\n",
       "      <td>1107</td>\n",
       "      <td>129999.0</td>\n",
       "      <td>188.0</td>\n",
       "    </tr>\n",
       "    <tr>\n",
       "      <th>...</th>\n",
       "      <td>...</td>\n",
       "      <td>...</td>\n",
       "      <td>...</td>\n",
       "      <td>...</td>\n",
       "      <td>...</td>\n",
       "      <td>...</td>\n",
       "    </tr>\n",
       "    <tr>\n",
       "      <th>341</th>\n",
       "      <td>Magallanes</td>\n",
       "      <td>12</td>\n",
       "      <td>Punta Arenas</td>\n",
       "      <td>12101</td>\n",
       "      <td>141984.0</td>\n",
       "      <td>858.0</td>\n",
       "    </tr>\n",
       "    <tr>\n",
       "      <th>342</th>\n",
       "      <td>Magallanes</td>\n",
       "      <td>12</td>\n",
       "      <td>Rio Verde</td>\n",
       "      <td>12103</td>\n",
       "      <td>211.0</td>\n",
       "      <td>0.0</td>\n",
       "    </tr>\n",
       "    <tr>\n",
       "      <th>343</th>\n",
       "      <td>Magallanes</td>\n",
       "      <td>12</td>\n",
       "      <td>San Gregorio</td>\n",
       "      <td>12104</td>\n",
       "      <td>681.0</td>\n",
       "      <td>1.0</td>\n",
       "    </tr>\n",
       "    <tr>\n",
       "      <th>344</th>\n",
       "      <td>Magallanes</td>\n",
       "      <td>12</td>\n",
       "      <td>Timaukel</td>\n",
       "      <td>12303</td>\n",
       "      <td>282.0</td>\n",
       "      <td>0.0</td>\n",
       "    </tr>\n",
       "    <tr>\n",
       "      <th>345</th>\n",
       "      <td>Magallanes</td>\n",
       "      <td>12</td>\n",
       "      <td>Torres del Paine</td>\n",
       "      <td>12402</td>\n",
       "      <td>1021.0</td>\n",
       "      <td>0.0</td>\n",
       "    </tr>\n",
       "  </tbody>\n",
       "</table>\n",
       "<p>346 rows × 6 columns</p>\n",
       "</div>"
      ],
      "text/plain": [
       "                 Region  Codigo region            Comuna  Codigo comuna  \\\n",
       "0    Arica y Parinacota             15             Arica          15101   \n",
       "1    Arica y Parinacota             15         Camarones          15102   \n",
       "2    Arica y Parinacota             15     General Lagos          15202   \n",
       "3    Arica y Parinacota             15             Putre          15201   \n",
       "4              Tarapacá              1     Alto Hospicio           1107   \n",
       "..                  ...            ...               ...            ...   \n",
       "341          Magallanes             12      Punta Arenas          12101   \n",
       "342          Magallanes             12         Rio Verde          12103   \n",
       "343          Magallanes             12      San Gregorio          12104   \n",
       "344          Magallanes             12          Timaukel          12303   \n",
       "345          Magallanes             12  Torres del Paine          12402   \n",
       "\n",
       "     Poblacion  Casos Confirmados  \n",
       "0     247552.0              353.0  \n",
       "1       1233.0                0.0  \n",
       "2        810.0                0.0  \n",
       "3       2515.0                0.0  \n",
       "4     129999.0              188.0  \n",
       "..         ...                ...  \n",
       "341   141984.0              858.0  \n",
       "342      211.0                0.0  \n",
       "343      681.0                1.0  \n",
       "344      282.0                0.0  \n",
       "345     1021.0                0.0  \n",
       "\n",
       "[346 rows x 6 columns]"
      ]
     },
     "execution_count": 14,
     "metadata": {},
     "output_type": "execute_result"
    }
   ],
   "source": [
    "df"
   ]
  },
  {
   "cell_type": "code",
   "execution_count": 15,
   "metadata": {
    "colab": {
     "base_uri": "https://localhost:8080/"
    },
    "executionInfo": {
     "elapsed": 7,
     "status": "ok",
     "timestamp": 1709305218920,
     "user": {
      "displayName": "Daniela Opitz (Dani)",
      "userId": "17509437660534230857"
     },
     "user_tz": 180
    },
    "id": "P5NWWSdla6BP",
    "outputId": "c7662da8-7296-4825-f20d-b559429df18a"
   },
   "outputs": [
    {
     "data": {
      "text/plain": [
       "Index(['Region', 'Codigo region', 'Comuna', 'Codigo comuna', 'Poblacion',\n",
       "       'Casos Confirmados'],\n",
       "      dtype='object')"
      ]
     },
     "execution_count": 15,
     "metadata": {},
     "output_type": "execute_result"
    }
   ],
   "source": [
    "df.columns"
   ]
  },
  {
   "cell_type": "markdown",
   "metadata": {
    "id": "1XT5OmHoMWqm"
   },
   "source": [
    "* Se pueden recuperar filas que cumple condiciones sobre las columnas:\n",
    "* Ejemplo: ¿Cuáles son las comunas con menos de 50 casos confirmados?"
   ]
  },
  {
   "cell_type": "code",
   "execution_count": 16,
   "metadata": {
    "colab": {
     "base_uri": "https://localhost:8080/",
     "height": 423
    },
    "executionInfo": {
     "elapsed": 6,
     "status": "ok",
     "timestamp": 1709305218920,
     "user": {
      "displayName": "Daniela Opitz (Dani)",
      "userId": "17509437660534230857"
     },
     "user_tz": 180
    },
    "id": "qFLGXxULMWqn",
    "outputId": "9822fe5b-812e-46cb-8826-314e75b3bc52"
   },
   "outputs": [
    {
     "data": {
      "text/html": [
       "<div>\n",
       "<style scoped>\n",
       "    .dataframe tbody tr th:only-of-type {\n",
       "        vertical-align: middle;\n",
       "    }\n",
       "\n",
       "    .dataframe tbody tr th {\n",
       "        vertical-align: top;\n",
       "    }\n",
       "\n",
       "    .dataframe thead th {\n",
       "        text-align: right;\n",
       "    }\n",
       "</style>\n",
       "<table border=\"1\" class=\"dataframe\">\n",
       "  <thead>\n",
       "    <tr style=\"text-align: right;\">\n",
       "      <th></th>\n",
       "      <th>Region</th>\n",
       "      <th>Codigo region</th>\n",
       "      <th>Comuna</th>\n",
       "      <th>Codigo comuna</th>\n",
       "      <th>Poblacion</th>\n",
       "      <th>Casos Confirmados</th>\n",
       "    </tr>\n",
       "  </thead>\n",
       "  <tbody>\n",
       "    <tr>\n",
       "      <th>1</th>\n",
       "      <td>Arica y Parinacota</td>\n",
       "      <td>15</td>\n",
       "      <td>Camarones</td>\n",
       "      <td>15102</td>\n",
       "      <td>1233.0</td>\n",
       "      <td>0.0</td>\n",
       "    </tr>\n",
       "    <tr>\n",
       "      <th>2</th>\n",
       "      <td>Arica y Parinacota</td>\n",
       "      <td>15</td>\n",
       "      <td>General Lagos</td>\n",
       "      <td>15202</td>\n",
       "      <td>810.0</td>\n",
       "      <td>0.0</td>\n",
       "    </tr>\n",
       "    <tr>\n",
       "      <th>3</th>\n",
       "      <td>Arica y Parinacota</td>\n",
       "      <td>15</td>\n",
       "      <td>Putre</td>\n",
       "      <td>15201</td>\n",
       "      <td>2515.0</td>\n",
       "      <td>0.0</td>\n",
       "    </tr>\n",
       "    <tr>\n",
       "      <th>5</th>\n",
       "      <td>Tarapacá</td>\n",
       "      <td>1</td>\n",
       "      <td>Camina</td>\n",
       "      <td>1402</td>\n",
       "      <td>1375.0</td>\n",
       "      <td>0.0</td>\n",
       "    </tr>\n",
       "    <tr>\n",
       "      <th>6</th>\n",
       "      <td>Tarapacá</td>\n",
       "      <td>1</td>\n",
       "      <td>Colchane</td>\n",
       "      <td>1403</td>\n",
       "      <td>1583.0</td>\n",
       "      <td>0.0</td>\n",
       "    </tr>\n",
       "    <tr>\n",
       "      <th>...</th>\n",
       "      <td>...</td>\n",
       "      <td>...</td>\n",
       "      <td>...</td>\n",
       "      <td>...</td>\n",
       "      <td>...</td>\n",
       "      <td>...</td>\n",
       "    </tr>\n",
       "    <tr>\n",
       "      <th>340</th>\n",
       "      <td>Magallanes</td>\n",
       "      <td>12</td>\n",
       "      <td>Primavera</td>\n",
       "      <td>12302</td>\n",
       "      <td>694.0</td>\n",
       "      <td>1.0</td>\n",
       "    </tr>\n",
       "    <tr>\n",
       "      <th>342</th>\n",
       "      <td>Magallanes</td>\n",
       "      <td>12</td>\n",
       "      <td>Rio Verde</td>\n",
       "      <td>12103</td>\n",
       "      <td>211.0</td>\n",
       "      <td>0.0</td>\n",
       "    </tr>\n",
       "    <tr>\n",
       "      <th>343</th>\n",
       "      <td>Magallanes</td>\n",
       "      <td>12</td>\n",
       "      <td>San Gregorio</td>\n",
       "      <td>12104</td>\n",
       "      <td>681.0</td>\n",
       "      <td>1.0</td>\n",
       "    </tr>\n",
       "    <tr>\n",
       "      <th>344</th>\n",
       "      <td>Magallanes</td>\n",
       "      <td>12</td>\n",
       "      <td>Timaukel</td>\n",
       "      <td>12303</td>\n",
       "      <td>282.0</td>\n",
       "      <td>0.0</td>\n",
       "    </tr>\n",
       "    <tr>\n",
       "      <th>345</th>\n",
       "      <td>Magallanes</td>\n",
       "      <td>12</td>\n",
       "      <td>Torres del Paine</td>\n",
       "      <td>12402</td>\n",
       "      <td>1021.0</td>\n",
       "      <td>0.0</td>\n",
       "    </tr>\n",
       "  </tbody>\n",
       "</table>\n",
       "<p>268 rows × 6 columns</p>\n",
       "</div>"
      ],
      "text/plain": [
       "                 Region  Codigo region            Comuna  Codigo comuna  \\\n",
       "1    Arica y Parinacota             15         Camarones          15102   \n",
       "2    Arica y Parinacota             15     General Lagos          15202   \n",
       "3    Arica y Parinacota             15             Putre          15201   \n",
       "5              Tarapacá              1            Camina           1402   \n",
       "6              Tarapacá              1          Colchane           1403   \n",
       "..                  ...            ...               ...            ...   \n",
       "340          Magallanes             12         Primavera          12302   \n",
       "342          Magallanes             12         Rio Verde          12103   \n",
       "343          Magallanes             12      San Gregorio          12104   \n",
       "344          Magallanes             12          Timaukel          12303   \n",
       "345          Magallanes             12  Torres del Paine          12402   \n",
       "\n",
       "     Poblacion  Casos Confirmados  \n",
       "1       1233.0                0.0  \n",
       "2        810.0                0.0  \n",
       "3       2515.0                0.0  \n",
       "5       1375.0                0.0  \n",
       "6       1583.0                0.0  \n",
       "..         ...                ...  \n",
       "340      694.0                1.0  \n",
       "342      211.0                0.0  \n",
       "343      681.0                1.0  \n",
       "344      282.0                0.0  \n",
       "345     1021.0                0.0  \n",
       "\n",
       "[268 rows x 6 columns]"
      ]
     },
     "execution_count": 16,
     "metadata": {},
     "output_type": "execute_result"
    }
   ],
   "source": [
    "df[df['Casos Confirmados'] < 50] # comunas con menos de 50 confirmados"
   ]
  },
  {
   "cell_type": "code",
   "execution_count": 17,
   "metadata": {
    "colab": {
     "base_uri": "https://localhost:8080/",
     "height": 423
    },
    "executionInfo": {
     "elapsed": 6,
     "status": "ok",
     "timestamp": 1709305218920,
     "user": {
      "displayName": "Daniela Opitz (Dani)",
      "userId": "17509437660534230857"
     },
     "user_tz": 180
    },
    "id": "89QpkOBZMWqp",
    "outputId": "69f2ae30-5981-47c4-a10c-a23ab6737bc5"
   },
   "outputs": [
    {
     "data": {
      "text/html": [
       "<div>\n",
       "<style scoped>\n",
       "    .dataframe tbody tr th:only-of-type {\n",
       "        vertical-align: middle;\n",
       "    }\n",
       "\n",
       "    .dataframe tbody tr th {\n",
       "        vertical-align: top;\n",
       "    }\n",
       "\n",
       "    .dataframe thead th {\n",
       "        text-align: right;\n",
       "    }\n",
       "</style>\n",
       "<table border=\"1\" class=\"dataframe\">\n",
       "  <thead>\n",
       "    <tr style=\"text-align: right;\">\n",
       "      <th></th>\n",
       "      <th>Region</th>\n",
       "      <th>Codigo region</th>\n",
       "      <th>Comuna</th>\n",
       "      <th>Codigo comuna</th>\n",
       "      <th>Poblacion</th>\n",
       "      <th>Casos Confirmados</th>\n",
       "    </tr>\n",
       "  </thead>\n",
       "  <tbody>\n",
       "    <tr>\n",
       "      <th>1</th>\n",
       "      <td>Arica y Parinacota</td>\n",
       "      <td>15</td>\n",
       "      <td>Camarones</td>\n",
       "      <td>15102</td>\n",
       "      <td>1233.0</td>\n",
       "      <td>0.0</td>\n",
       "    </tr>\n",
       "    <tr>\n",
       "      <th>2</th>\n",
       "      <td>Arica y Parinacota</td>\n",
       "      <td>15</td>\n",
       "      <td>General Lagos</td>\n",
       "      <td>15202</td>\n",
       "      <td>810.0</td>\n",
       "      <td>0.0</td>\n",
       "    </tr>\n",
       "    <tr>\n",
       "      <th>3</th>\n",
       "      <td>Arica y Parinacota</td>\n",
       "      <td>15</td>\n",
       "      <td>Putre</td>\n",
       "      <td>15201</td>\n",
       "      <td>2515.0</td>\n",
       "      <td>0.0</td>\n",
       "    </tr>\n",
       "    <tr>\n",
       "      <th>5</th>\n",
       "      <td>Tarapacá</td>\n",
       "      <td>1</td>\n",
       "      <td>Camina</td>\n",
       "      <td>1402</td>\n",
       "      <td>1375.0</td>\n",
       "      <td>0.0</td>\n",
       "    </tr>\n",
       "    <tr>\n",
       "      <th>6</th>\n",
       "      <td>Tarapacá</td>\n",
       "      <td>1</td>\n",
       "      <td>Colchane</td>\n",
       "      <td>1403</td>\n",
       "      <td>1583.0</td>\n",
       "      <td>0.0</td>\n",
       "    </tr>\n",
       "    <tr>\n",
       "      <th>...</th>\n",
       "      <td>...</td>\n",
       "      <td>...</td>\n",
       "      <td>...</td>\n",
       "      <td>...</td>\n",
       "      <td>...</td>\n",
       "      <td>...</td>\n",
       "    </tr>\n",
       "    <tr>\n",
       "      <th>340</th>\n",
       "      <td>Magallanes</td>\n",
       "      <td>12</td>\n",
       "      <td>Primavera</td>\n",
       "      <td>12302</td>\n",
       "      <td>694.0</td>\n",
       "      <td>1.0</td>\n",
       "    </tr>\n",
       "    <tr>\n",
       "      <th>342</th>\n",
       "      <td>Magallanes</td>\n",
       "      <td>12</td>\n",
       "      <td>Rio Verde</td>\n",
       "      <td>12103</td>\n",
       "      <td>211.0</td>\n",
       "      <td>0.0</td>\n",
       "    </tr>\n",
       "    <tr>\n",
       "      <th>343</th>\n",
       "      <td>Magallanes</td>\n",
       "      <td>12</td>\n",
       "      <td>San Gregorio</td>\n",
       "      <td>12104</td>\n",
       "      <td>681.0</td>\n",
       "      <td>1.0</td>\n",
       "    </tr>\n",
       "    <tr>\n",
       "      <th>344</th>\n",
       "      <td>Magallanes</td>\n",
       "      <td>12</td>\n",
       "      <td>Timaukel</td>\n",
       "      <td>12303</td>\n",
       "      <td>282.0</td>\n",
       "      <td>0.0</td>\n",
       "    </tr>\n",
       "    <tr>\n",
       "      <th>345</th>\n",
       "      <td>Magallanes</td>\n",
       "      <td>12</td>\n",
       "      <td>Torres del Paine</td>\n",
       "      <td>12402</td>\n",
       "      <td>1021.0</td>\n",
       "      <td>0.0</td>\n",
       "    </tr>\n",
       "  </tbody>\n",
       "</table>\n",
       "<p>139 rows × 6 columns</p>\n",
       "</div>"
      ],
      "text/plain": [
       "                 Region  Codigo region            Comuna  Codigo comuna  \\\n",
       "1    Arica y Parinacota             15         Camarones          15102   \n",
       "2    Arica y Parinacota             15     General Lagos          15202   \n",
       "3    Arica y Parinacota             15             Putre          15201   \n",
       "5              Tarapacá              1            Camina           1402   \n",
       "6              Tarapacá              1          Colchane           1403   \n",
       "..                  ...            ...               ...            ...   \n",
       "340          Magallanes             12         Primavera          12302   \n",
       "342          Magallanes             12         Rio Verde          12103   \n",
       "343          Magallanes             12      San Gregorio          12104   \n",
       "344          Magallanes             12          Timaukel          12303   \n",
       "345          Magallanes             12  Torres del Paine          12402   \n",
       "\n",
       "     Poblacion  Casos Confirmados  \n",
       "1       1233.0                0.0  \n",
       "2        810.0                0.0  \n",
       "3       2515.0                0.0  \n",
       "5       1375.0                0.0  \n",
       "6       1583.0                0.0  \n",
       "..         ...                ...  \n",
       "340      694.0                1.0  \n",
       "342      211.0                0.0  \n",
       "343      681.0                1.0  \n",
       "344      282.0                0.0  \n",
       "345     1021.0                0.0  \n",
       "\n",
       "[139 rows x 6 columns]"
      ]
     },
     "execution_count": 17,
     "metadata": {},
     "output_type": "execute_result"
    }
   ],
   "source": [
    "menos_casos = df[df['Casos Confirmados'] < 5]\n",
    "menos_casos"
   ]
  },
  {
   "cell_type": "markdown",
   "metadata": {
    "id": "GAPFoYSlMWqs"
   },
   "source": [
    "Las condiciones se pueden mezclar con el operador or, and y not. Siempre debes **usar paréntesis para agrupar las condiciones!**\n",
    "\n",
    "| Operación | Python (`if`) | Pandas |\n",
    "|-----------|--------------|-----------|\n",
    "| Disyunción | or | &#124; |\n",
    "| Conjunción | and | & |\n",
    "| Negación | not | ~ |"
   ]
  },
  {
   "cell_type": "markdown",
   "metadata": {
    "id": "CqCQDYy6MWqs"
   },
   "source": [
    "Pregunta: ¿ Cuáles son las comunas con casos conformados menores a 50 y mayores a 500?"
   ]
  },
  {
   "cell_type": "code",
   "execution_count": 18,
   "metadata": {
    "colab": {
     "base_uri": "https://localhost:8080/",
     "height": 423
    },
    "executionInfo": {
     "elapsed": 5,
     "status": "ok",
     "timestamp": 1709305218920,
     "user": {
      "displayName": "Daniela Opitz (Dani)",
      "userId": "17509437660534230857"
     },
     "user_tz": 180
    },
    "id": "kGnLMVCVMWqt",
    "outputId": "871e7464-13e4-4028-ca8e-0de0a225bbf0"
   },
   "outputs": [
    {
     "data": {
      "text/html": [
       "<div>\n",
       "<style scoped>\n",
       "    .dataframe tbody tr th:only-of-type {\n",
       "        vertical-align: middle;\n",
       "    }\n",
       "\n",
       "    .dataframe tbody tr th {\n",
       "        vertical-align: top;\n",
       "    }\n",
       "\n",
       "    .dataframe thead th {\n",
       "        text-align: right;\n",
       "    }\n",
       "</style>\n",
       "<table border=\"1\" class=\"dataframe\">\n",
       "  <thead>\n",
       "    <tr style=\"text-align: right;\">\n",
       "      <th></th>\n",
       "      <th>Region</th>\n",
       "      <th>Codigo region</th>\n",
       "      <th>Comuna</th>\n",
       "      <th>Codigo comuna</th>\n",
       "      <th>Poblacion</th>\n",
       "      <th>Casos Confirmados</th>\n",
       "    </tr>\n",
       "  </thead>\n",
       "  <tbody>\n",
       "    <tr>\n",
       "      <th>1</th>\n",
       "      <td>Arica y Parinacota</td>\n",
       "      <td>15</td>\n",
       "      <td>Camarones</td>\n",
       "      <td>15102</td>\n",
       "      <td>1233.0</td>\n",
       "      <td>0.0</td>\n",
       "    </tr>\n",
       "    <tr>\n",
       "      <th>2</th>\n",
       "      <td>Arica y Parinacota</td>\n",
       "      <td>15</td>\n",
       "      <td>General Lagos</td>\n",
       "      <td>15202</td>\n",
       "      <td>810.0</td>\n",
       "      <td>0.0</td>\n",
       "    </tr>\n",
       "    <tr>\n",
       "      <th>3</th>\n",
       "      <td>Arica y Parinacota</td>\n",
       "      <td>15</td>\n",
       "      <td>Putre</td>\n",
       "      <td>15201</td>\n",
       "      <td>2515.0</td>\n",
       "      <td>0.0</td>\n",
       "    </tr>\n",
       "    <tr>\n",
       "      <th>5</th>\n",
       "      <td>Tarapacá</td>\n",
       "      <td>1</td>\n",
       "      <td>Camina</td>\n",
       "      <td>1402</td>\n",
       "      <td>1375.0</td>\n",
       "      <td>0.0</td>\n",
       "    </tr>\n",
       "    <tr>\n",
       "      <th>6</th>\n",
       "      <td>Tarapacá</td>\n",
       "      <td>1</td>\n",
       "      <td>Colchane</td>\n",
       "      <td>1403</td>\n",
       "      <td>1583.0</td>\n",
       "      <td>0.0</td>\n",
       "    </tr>\n",
       "    <tr>\n",
       "      <th>...</th>\n",
       "      <td>...</td>\n",
       "      <td>...</td>\n",
       "      <td>...</td>\n",
       "      <td>...</td>\n",
       "      <td>...</td>\n",
       "      <td>...</td>\n",
       "    </tr>\n",
       "    <tr>\n",
       "      <th>341</th>\n",
       "      <td>Magallanes</td>\n",
       "      <td>12</td>\n",
       "      <td>Punta Arenas</td>\n",
       "      <td>12101</td>\n",
       "      <td>141984.0</td>\n",
       "      <td>858.0</td>\n",
       "    </tr>\n",
       "    <tr>\n",
       "      <th>342</th>\n",
       "      <td>Magallanes</td>\n",
       "      <td>12</td>\n",
       "      <td>Rio Verde</td>\n",
       "      <td>12103</td>\n",
       "      <td>211.0</td>\n",
       "      <td>0.0</td>\n",
       "    </tr>\n",
       "    <tr>\n",
       "      <th>343</th>\n",
       "      <td>Magallanes</td>\n",
       "      <td>12</td>\n",
       "      <td>San Gregorio</td>\n",
       "      <td>12104</td>\n",
       "      <td>681.0</td>\n",
       "      <td>1.0</td>\n",
       "    </tr>\n",
       "    <tr>\n",
       "      <th>344</th>\n",
       "      <td>Magallanes</td>\n",
       "      <td>12</td>\n",
       "      <td>Timaukel</td>\n",
       "      <td>12303</td>\n",
       "      <td>282.0</td>\n",
       "      <td>0.0</td>\n",
       "    </tr>\n",
       "    <tr>\n",
       "      <th>345</th>\n",
       "      <td>Magallanes</td>\n",
       "      <td>12</td>\n",
       "      <td>Torres del Paine</td>\n",
       "      <td>12402</td>\n",
       "      <td>1021.0</td>\n",
       "      <td>0.0</td>\n",
       "    </tr>\n",
       "  </tbody>\n",
       "</table>\n",
       "<p>283 rows × 6 columns</p>\n",
       "</div>"
      ],
      "text/plain": [
       "                 Region  Codigo region            Comuna  Codigo comuna  \\\n",
       "1    Arica y Parinacota             15         Camarones          15102   \n",
       "2    Arica y Parinacota             15     General Lagos          15202   \n",
       "3    Arica y Parinacota             15             Putre          15201   \n",
       "5              Tarapacá              1            Camina           1402   \n",
       "6              Tarapacá              1          Colchane           1403   \n",
       "..                  ...            ...               ...            ...   \n",
       "341          Magallanes             12      Punta Arenas          12101   \n",
       "342          Magallanes             12         Rio Verde          12103   \n",
       "343          Magallanes             12      San Gregorio          12104   \n",
       "344          Magallanes             12          Timaukel          12303   \n",
       "345          Magallanes             12  Torres del Paine          12402   \n",
       "\n",
       "     Poblacion  Casos Confirmados  \n",
       "1       1233.0                0.0  \n",
       "2        810.0                0.0  \n",
       "3       2515.0                0.0  \n",
       "5       1375.0                0.0  \n",
       "6       1583.0                0.0  \n",
       "..         ...                ...  \n",
       "341   141984.0              858.0  \n",
       "342      211.0                0.0  \n",
       "343      681.0                1.0  \n",
       "344      282.0                0.0  \n",
       "345     1021.0                0.0  \n",
       "\n",
       "[283 rows x 6 columns]"
      ]
     },
     "execution_count": 18,
     "metadata": {},
     "output_type": "execute_result"
    }
   ],
   "source": [
    "casos_extremos = df[(df['Casos Confirmados'] < 50) | (df['Casos Confirmados'] > 500)] # debes agrupar condiciones con paréntesis\n",
    "casos_extremos"
   ]
  },
  {
   "cell_type": "markdown",
   "metadata": {
    "id": "l8o5hOPaMWqx"
   },
   "source": [
    "¿Y cuales están entre 50 y 500?"
   ]
  },
  {
   "cell_type": "code",
   "execution_count": 19,
   "metadata": {
    "colab": {
     "base_uri": "https://localhost:8080/",
     "height": 206
    },
    "executionInfo": {
     "elapsed": 5,
     "status": "ok",
     "timestamp": 1709305218920,
     "user": {
      "displayName": "Daniela Opitz (Dani)",
      "userId": "17509437660534230857"
     },
     "user_tz": 180
    },
    "id": "R_EOISRCMWqy",
    "outputId": "f481c167-77db-421a-cccb-6603ee84cdc3"
   },
   "outputs": [
    {
     "data": {
      "text/html": [
       "<div>\n",
       "<style scoped>\n",
       "    .dataframe tbody tr th:only-of-type {\n",
       "        vertical-align: middle;\n",
       "    }\n",
       "\n",
       "    .dataframe tbody tr th {\n",
       "        vertical-align: top;\n",
       "    }\n",
       "\n",
       "    .dataframe thead th {\n",
       "        text-align: right;\n",
       "    }\n",
       "</style>\n",
       "<table border=\"1\" class=\"dataframe\">\n",
       "  <thead>\n",
       "    <tr style=\"text-align: right;\">\n",
       "      <th></th>\n",
       "      <th>Region</th>\n",
       "      <th>Codigo region</th>\n",
       "      <th>Comuna</th>\n",
       "      <th>Codigo comuna</th>\n",
       "      <th>Poblacion</th>\n",
       "      <th>Casos Confirmados</th>\n",
       "    </tr>\n",
       "  </thead>\n",
       "  <tbody>\n",
       "    <tr>\n",
       "      <th>0</th>\n",
       "      <td>Arica y Parinacota</td>\n",
       "      <td>15</td>\n",
       "      <td>Arica</td>\n",
       "      <td>15101</td>\n",
       "      <td>247552.0</td>\n",
       "      <td>353.0</td>\n",
       "    </tr>\n",
       "    <tr>\n",
       "      <th>4</th>\n",
       "      <td>Tarapacá</td>\n",
       "      <td>1</td>\n",
       "      <td>Alto Hospicio</td>\n",
       "      <td>1107</td>\n",
       "      <td>129999.0</td>\n",
       "      <td>188.0</td>\n",
       "    </tr>\n",
       "    <tr>\n",
       "      <th>8</th>\n",
       "      <td>Tarapacá</td>\n",
       "      <td>1</td>\n",
       "      <td>Iquique</td>\n",
       "      <td>1101</td>\n",
       "      <td>223463.0</td>\n",
       "      <td>308.0</td>\n",
       "    </tr>\n",
       "    <tr>\n",
       "      <th>12</th>\n",
       "      <td>Antofagasta</td>\n",
       "      <td>2</td>\n",
       "      <td>Calama</td>\n",
       "      <td>2201</td>\n",
       "      <td>190336.0</td>\n",
       "      <td>114.0</td>\n",
       "    </tr>\n",
       "    <tr>\n",
       "      <th>14</th>\n",
       "      <td>Antofagasta</td>\n",
       "      <td>2</td>\n",
       "      <td>Mejillones</td>\n",
       "      <td>2102</td>\n",
       "      <td>14776.0</td>\n",
       "      <td>150.0</td>\n",
       "    </tr>\n",
       "  </tbody>\n",
       "</table>\n",
       "</div>"
      ],
      "text/plain": [
       "                Region  Codigo region         Comuna  Codigo comuna  \\\n",
       "0   Arica y Parinacota             15          Arica          15101   \n",
       "4             Tarapacá              1  Alto Hospicio           1107   \n",
       "8             Tarapacá              1        Iquique           1101   \n",
       "12         Antofagasta              2         Calama           2201   \n",
       "14         Antofagasta              2     Mejillones           2102   \n",
       "\n",
       "    Poblacion  Casos Confirmados  \n",
       "0    247552.0              353.0  \n",
       "4    129999.0              188.0  \n",
       "8    223463.0              308.0  \n",
       "12   190336.0              114.0  \n",
       "14    14776.0              150.0  "
      ]
     },
     "execution_count": 19,
     "metadata": {},
     "output_type": "execute_result"
    }
   ],
   "source": [
    "casos_noextremos = df[(df['Casos Confirmados'] > 50) & (df['Casos Confirmados'] < 500)]\n",
    "casos_noextremos.head()"
   ]
  },
  {
   "cell_type": "markdown",
   "metadata": {
    "id": "XNX9rVm8MWq4"
   },
   "source": [
    "* Pregunta: ¿Cuántas comunas están en los extremos?"
   ]
  },
  {
   "cell_type": "code",
   "execution_count": 20,
   "metadata": {
    "colab": {
     "base_uri": "https://localhost:8080/"
    },
    "executionInfo": {
     "elapsed": 412,
     "status": "ok",
     "timestamp": 1709305219327,
     "user": {
      "displayName": "Daniela Opitz (Dani)",
      "userId": "17509437660534230857"
     },
     "user_tz": 180
    },
    "id": "PS9svGerMWq5",
    "outputId": "5ab3bdf3-dab5-482b-ec7e-c3f557ae913f"
   },
   "outputs": [
    {
     "data": {
      "text/plain": [
       "(62, 6)"
      ]
     },
     "execution_count": 20,
     "metadata": {},
     "output_type": "execute_result"
    }
   ],
   "source": [
    "casos_noextremos.shape # (num. filas, num. columnas)"
   ]
  },
  {
   "cell_type": "markdown",
   "metadata": {
    "id": "9M_Cw_ZXMWq-"
   },
   "source": [
    "## Operaciones sobre Dataframes\n",
    "Pandas incorpora operaciones estadísticas básicas. Ver vás en https://pandas.pydata.org/pandas-docs/stable/basics.html#descriptive-statistics"
   ]
  },
  {
   "cell_type": "code",
   "execution_count": 21,
   "metadata": {
    "colab": {
     "base_uri": "https://localhost:8080/",
     "height": 300
    },
    "executionInfo": {
     "elapsed": 6,
     "status": "ok",
     "timestamp": 1709305219327,
     "user": {
      "displayName": "Daniela Opitz (Dani)",
      "userId": "17509437660534230857"
     },
     "user_tz": 180
    },
    "id": "z5f8gqgyMWrD",
    "outputId": "0a2e929f-151b-4eda-bdaf-3c1a9cb61a39"
   },
   "outputs": [
    {
     "data": {
      "text/html": [
       "<div>\n",
       "<style scoped>\n",
       "    .dataframe tbody tr th:only-of-type {\n",
       "        vertical-align: middle;\n",
       "    }\n",
       "\n",
       "    .dataframe tbody tr th {\n",
       "        vertical-align: top;\n",
       "    }\n",
       "\n",
       "    .dataframe thead th {\n",
       "        text-align: right;\n",
       "    }\n",
       "</style>\n",
       "<table border=\"1\" class=\"dataframe\">\n",
       "  <thead>\n",
       "    <tr style=\"text-align: right;\">\n",
       "      <th></th>\n",
       "      <th>Codigo region</th>\n",
       "      <th>Codigo comuna</th>\n",
       "      <th>Poblacion</th>\n",
       "      <th>Casos Confirmados</th>\n",
       "    </tr>\n",
       "  </thead>\n",
       "  <tbody>\n",
       "    <tr>\n",
       "      <th>count</th>\n",
       "      <td>346.000000</td>\n",
       "      <td>346.000000</td>\n",
       "      <td>346.000000</td>\n",
       "      <td>346.000000</td>\n",
       "    </tr>\n",
       "    <tr>\n",
       "      <th>mean</th>\n",
       "      <td>8.797688</td>\n",
       "      <td>9034.997110</td>\n",
       "      <td>56237.890173</td>\n",
       "      <td>86.777457</td>\n",
       "    </tr>\n",
       "    <tr>\n",
       "      <th>std</th>\n",
       "      <td>3.847016</td>\n",
       "      <td>3818.147431</td>\n",
       "      <td>88945.967089</td>\n",
       "      <td>220.231669</td>\n",
       "    </tr>\n",
       "    <tr>\n",
       "      <th>min</th>\n",
       "      <td>1.000000</td>\n",
       "      <td>1101.000000</td>\n",
       "      <td>137.000000</td>\n",
       "      <td>0.000000</td>\n",
       "    </tr>\n",
       "    <tr>\n",
       "      <th>25%</th>\n",
       "      <td>6.000000</td>\n",
       "      <td>6109.250000</td>\n",
       "      <td>9649.250000</td>\n",
       "      <td>2.000000</td>\n",
       "    </tr>\n",
       "    <tr>\n",
       "      <th>50%</th>\n",
       "      <td>8.000000</td>\n",
       "      <td>8313.500000</td>\n",
       "      <td>19770.000000</td>\n",
       "      <td>8.000000</td>\n",
       "    </tr>\n",
       "    <tr>\n",
       "      <th>75%</th>\n",
       "      <td>13.000000</td>\n",
       "      <td>13102.750000</td>\n",
       "      <td>55441.250000</td>\n",
       "      <td>40.750000</td>\n",
       "    </tr>\n",
       "    <tr>\n",
       "      <th>max</th>\n",
       "      <td>16.000000</td>\n",
       "      <td>16305.000000</td>\n",
       "      <td>645909.000000</td>\n",
       "      <td>1873.000000</td>\n",
       "    </tr>\n",
       "  </tbody>\n",
       "</table>\n",
       "</div>"
      ],
      "text/plain": [
       "       Codigo region  Codigo comuna      Poblacion  Casos Confirmados\n",
       "count     346.000000     346.000000     346.000000         346.000000\n",
       "mean        8.797688    9034.997110   56237.890173          86.777457\n",
       "std         3.847016    3818.147431   88945.967089         220.231669\n",
       "min         1.000000    1101.000000     137.000000           0.000000\n",
       "25%         6.000000    6109.250000    9649.250000           2.000000\n",
       "50%         8.000000    8313.500000   19770.000000           8.000000\n",
       "75%        13.000000   13102.750000   55441.250000          40.750000\n",
       "max        16.000000   16305.000000  645909.000000        1873.000000"
      ]
     },
     "execution_count": 21,
     "metadata": {},
     "output_type": "execute_result"
    }
   ],
   "source": [
    "df.describe()"
   ]
  },
  {
   "cell_type": "code",
   "execution_count": 22,
   "metadata": {
    "colab": {
     "base_uri": "https://localhost:8080/",
     "height": 1000
    },
    "executionInfo": {
     "elapsed": 6,
     "status": "ok",
     "timestamp": 1709305219327,
     "user": {
      "displayName": "Daniela Opitz (Dani)",
      "userId": "17509437660534230857"
     },
     "user_tz": 180
    },
    "id": "-tbh4WimNlI7",
    "outputId": "283668d5-d8a2-4aae-bc25-ae214f00b27d"
   },
   "outputs": [
    {
     "data": {
      "text/html": [
       "<div>\n",
       "<style scoped>\n",
       "    .dataframe tbody tr th:only-of-type {\n",
       "        vertical-align: middle;\n",
       "    }\n",
       "\n",
       "    .dataframe tbody tr th {\n",
       "        vertical-align: top;\n",
       "    }\n",
       "\n",
       "    .dataframe thead th {\n",
       "        text-align: right;\n",
       "    }\n",
       "</style>\n",
       "<table border=\"1\" class=\"dataframe\">\n",
       "  <thead>\n",
       "    <tr style=\"text-align: right;\">\n",
       "      <th></th>\n",
       "      <th>Region</th>\n",
       "      <th>Codigo region</th>\n",
       "      <th>Comuna</th>\n",
       "      <th>Codigo comuna</th>\n",
       "      <th>Poblacion</th>\n",
       "      <th>Casos Confirmados</th>\n",
       "    </tr>\n",
       "  </thead>\n",
       "  <tbody>\n",
       "    <tr>\n",
       "      <th>82</th>\n",
       "      <td>Metropolitana</td>\n",
       "      <td>13</td>\n",
       "      <td>Alhue</td>\n",
       "      <td>13502</td>\n",
       "      <td>7405.0</td>\n",
       "      <td>0.0</td>\n",
       "    </tr>\n",
       "    <tr>\n",
       "      <th>83</th>\n",
       "      <td>Metropolitana</td>\n",
       "      <td>13</td>\n",
       "      <td>Buin</td>\n",
       "      <td>13402</td>\n",
       "      <td>109641.0</td>\n",
       "      <td>152.0</td>\n",
       "    </tr>\n",
       "    <tr>\n",
       "      <th>84</th>\n",
       "      <td>Metropolitana</td>\n",
       "      <td>13</td>\n",
       "      <td>Calera de Tango</td>\n",
       "      <td>13403</td>\n",
       "      <td>28525.0</td>\n",
       "      <td>23.0</td>\n",
       "    </tr>\n",
       "    <tr>\n",
       "      <th>85</th>\n",
       "      <td>Metropolitana</td>\n",
       "      <td>13</td>\n",
       "      <td>Cerrillos</td>\n",
       "      <td>13102</td>\n",
       "      <td>88956.0</td>\n",
       "      <td>329.0</td>\n",
       "    </tr>\n",
       "    <tr>\n",
       "      <th>86</th>\n",
       "      <td>Metropolitana</td>\n",
       "      <td>13</td>\n",
       "      <td>Cerro Navia</td>\n",
       "      <td>13103</td>\n",
       "      <td>142465.0</td>\n",
       "      <td>387.0</td>\n",
       "    </tr>\n",
       "    <tr>\n",
       "      <th>87</th>\n",
       "      <td>Metropolitana</td>\n",
       "      <td>13</td>\n",
       "      <td>Colina</td>\n",
       "      <td>13301</td>\n",
       "      <td>180353.0</td>\n",
       "      <td>289.0</td>\n",
       "    </tr>\n",
       "    <tr>\n",
       "      <th>88</th>\n",
       "      <td>Metropolitana</td>\n",
       "      <td>13</td>\n",
       "      <td>Conchali</td>\n",
       "      <td>13104</td>\n",
       "      <td>139195.0</td>\n",
       "      <td>470.0</td>\n",
       "    </tr>\n",
       "    <tr>\n",
       "      <th>89</th>\n",
       "      <td>Metropolitana</td>\n",
       "      <td>13</td>\n",
       "      <td>Curacavi</td>\n",
       "      <td>13503</td>\n",
       "      <td>36430.0</td>\n",
       "      <td>35.0</td>\n",
       "    </tr>\n",
       "    <tr>\n",
       "      <th>90</th>\n",
       "      <td>Metropolitana</td>\n",
       "      <td>13</td>\n",
       "      <td>El Bosque</td>\n",
       "      <td>13105</td>\n",
       "      <td>172000.0</td>\n",
       "      <td>439.0</td>\n",
       "    </tr>\n",
       "    <tr>\n",
       "      <th>91</th>\n",
       "      <td>Metropolitana</td>\n",
       "      <td>13</td>\n",
       "      <td>El Monte</td>\n",
       "      <td>13602</td>\n",
       "      <td>40014.0</td>\n",
       "      <td>29.0</td>\n",
       "    </tr>\n",
       "    <tr>\n",
       "      <th>92</th>\n",
       "      <td>Metropolitana</td>\n",
       "      <td>13</td>\n",
       "      <td>Estacion Central</td>\n",
       "      <td>13106</td>\n",
       "      <td>206792.0</td>\n",
       "      <td>679.0</td>\n",
       "    </tr>\n",
       "    <tr>\n",
       "      <th>93</th>\n",
       "      <td>Metropolitana</td>\n",
       "      <td>13</td>\n",
       "      <td>Huechuraba</td>\n",
       "      <td>13107</td>\n",
       "      <td>112528.0</td>\n",
       "      <td>263.0</td>\n",
       "    </tr>\n",
       "    <tr>\n",
       "      <th>94</th>\n",
       "      <td>Metropolitana</td>\n",
       "      <td>13</td>\n",
       "      <td>Independencia</td>\n",
       "      <td>13108</td>\n",
       "      <td>142065.0</td>\n",
       "      <td>992.0</td>\n",
       "    </tr>\n",
       "    <tr>\n",
       "      <th>95</th>\n",
       "      <td>Metropolitana</td>\n",
       "      <td>13</td>\n",
       "      <td>Isla de Maipo</td>\n",
       "      <td>13603</td>\n",
       "      <td>40171.0</td>\n",
       "      <td>20.0</td>\n",
       "    </tr>\n",
       "    <tr>\n",
       "      <th>96</th>\n",
       "      <td>Metropolitana</td>\n",
       "      <td>13</td>\n",
       "      <td>La Cisterna</td>\n",
       "      <td>13109</td>\n",
       "      <td>100434.0</td>\n",
       "      <td>251.0</td>\n",
       "    </tr>\n",
       "    <tr>\n",
       "      <th>97</th>\n",
       "      <td>Metropolitana</td>\n",
       "      <td>13</td>\n",
       "      <td>La Florida</td>\n",
       "      <td>13110</td>\n",
       "      <td>402433.0</td>\n",
       "      <td>1071.0</td>\n",
       "    </tr>\n",
       "    <tr>\n",
       "      <th>98</th>\n",
       "      <td>Metropolitana</td>\n",
       "      <td>13</td>\n",
       "      <td>La Granja</td>\n",
       "      <td>13111</td>\n",
       "      <td>122557.0</td>\n",
       "      <td>348.0</td>\n",
       "    </tr>\n",
       "    <tr>\n",
       "      <th>99</th>\n",
       "      <td>Metropolitana</td>\n",
       "      <td>13</td>\n",
       "      <td>La Pintana</td>\n",
       "      <td>13112</td>\n",
       "      <td>189335.0</td>\n",
       "      <td>561.0</td>\n",
       "    </tr>\n",
       "    <tr>\n",
       "      <th>100</th>\n",
       "      <td>Metropolitana</td>\n",
       "      <td>13</td>\n",
       "      <td>La Reina</td>\n",
       "      <td>13113</td>\n",
       "      <td>100252.0</td>\n",
       "      <td>195.0</td>\n",
       "    </tr>\n",
       "    <tr>\n",
       "      <th>101</th>\n",
       "      <td>Metropolitana</td>\n",
       "      <td>13</td>\n",
       "      <td>Lampa</td>\n",
       "      <td>13302</td>\n",
       "      <td>126898.0</td>\n",
       "      <td>197.0</td>\n",
       "    </tr>\n",
       "    <tr>\n",
       "      <th>102</th>\n",
       "      <td>Metropolitana</td>\n",
       "      <td>13</td>\n",
       "      <td>Las Condes</td>\n",
       "      <td>13114</td>\n",
       "      <td>330759.0</td>\n",
       "      <td>738.0</td>\n",
       "    </tr>\n",
       "    <tr>\n",
       "      <th>103</th>\n",
       "      <td>Metropolitana</td>\n",
       "      <td>13</td>\n",
       "      <td>Lo Barnechea</td>\n",
       "      <td>13115</td>\n",
       "      <td>124076.0</td>\n",
       "      <td>422.0</td>\n",
       "    </tr>\n",
       "    <tr>\n",
       "      <th>104</th>\n",
       "      <td>Metropolitana</td>\n",
       "      <td>13</td>\n",
       "      <td>Lo Espejo</td>\n",
       "      <td>13116</td>\n",
       "      <td>103865.0</td>\n",
       "      <td>258.0</td>\n",
       "    </tr>\n",
       "    <tr>\n",
       "      <th>105</th>\n",
       "      <td>Metropolitana</td>\n",
       "      <td>13</td>\n",
       "      <td>Lo Prado</td>\n",
       "      <td>13117</td>\n",
       "      <td>104403.0</td>\n",
       "      <td>329.0</td>\n",
       "    </tr>\n",
       "    <tr>\n",
       "      <th>106</th>\n",
       "      <td>Metropolitana</td>\n",
       "      <td>13</td>\n",
       "      <td>Macul</td>\n",
       "      <td>13118</td>\n",
       "      <td>134635.0</td>\n",
       "      <td>336.0</td>\n",
       "    </tr>\n",
       "    <tr>\n",
       "      <th>107</th>\n",
       "      <td>Metropolitana</td>\n",
       "      <td>13</td>\n",
       "      <td>Maipu</td>\n",
       "      <td>13119</td>\n",
       "      <td>578605.0</td>\n",
       "      <td>844.0</td>\n",
       "    </tr>\n",
       "    <tr>\n",
       "      <th>108</th>\n",
       "      <td>Metropolitana</td>\n",
       "      <td>13</td>\n",
       "      <td>Maria Pinto</td>\n",
       "      <td>13504</td>\n",
       "      <td>14926.0</td>\n",
       "      <td>3.0</td>\n",
       "    </tr>\n",
       "    <tr>\n",
       "      <th>109</th>\n",
       "      <td>Metropolitana</td>\n",
       "      <td>13</td>\n",
       "      <td>Melipilla</td>\n",
       "      <td>13501</td>\n",
       "      <td>141612.0</td>\n",
       "      <td>136.0</td>\n",
       "    </tr>\n",
       "    <tr>\n",
       "      <th>110</th>\n",
       "      <td>Metropolitana</td>\n",
       "      <td>13</td>\n",
       "      <td>Nunoa</td>\n",
       "      <td>13120</td>\n",
       "      <td>250192.0</td>\n",
       "      <td>480.0</td>\n",
       "    </tr>\n",
       "    <tr>\n",
       "      <th>111</th>\n",
       "      <td>Metropolitana</td>\n",
       "      <td>13</td>\n",
       "      <td>Padre Hurtado</td>\n",
       "      <td>13604</td>\n",
       "      <td>74188.0</td>\n",
       "      <td>96.0</td>\n",
       "    </tr>\n",
       "    <tr>\n",
       "      <th>112</th>\n",
       "      <td>Metropolitana</td>\n",
       "      <td>13</td>\n",
       "      <td>Paine</td>\n",
       "      <td>13404</td>\n",
       "      <td>82766.0</td>\n",
       "      <td>56.0</td>\n",
       "    </tr>\n",
       "    <tr>\n",
       "      <th>113</th>\n",
       "      <td>Metropolitana</td>\n",
       "      <td>13</td>\n",
       "      <td>Pedro Aguirre Cerda</td>\n",
       "      <td>13121</td>\n",
       "      <td>107803.0</td>\n",
       "      <td>349.0</td>\n",
       "    </tr>\n",
       "    <tr>\n",
       "      <th>114</th>\n",
       "      <td>Metropolitana</td>\n",
       "      <td>13</td>\n",
       "      <td>Penaflor</td>\n",
       "      <td>13605</td>\n",
       "      <td>101058.0</td>\n",
       "      <td>102.0</td>\n",
       "    </tr>\n",
       "    <tr>\n",
       "      <th>115</th>\n",
       "      <td>Metropolitana</td>\n",
       "      <td>13</td>\n",
       "      <td>Penalolen</td>\n",
       "      <td>13122</td>\n",
       "      <td>266798.0</td>\n",
       "      <td>779.0</td>\n",
       "    </tr>\n",
       "    <tr>\n",
       "      <th>116</th>\n",
       "      <td>Metropolitana</td>\n",
       "      <td>13</td>\n",
       "      <td>Pirque</td>\n",
       "      <td>13202</td>\n",
       "      <td>30433.0</td>\n",
       "      <td>58.0</td>\n",
       "    </tr>\n",
       "    <tr>\n",
       "      <th>117</th>\n",
       "      <td>Metropolitana</td>\n",
       "      <td>13</td>\n",
       "      <td>Providencia</td>\n",
       "      <td>13123</td>\n",
       "      <td>157749.0</td>\n",
       "      <td>372.0</td>\n",
       "    </tr>\n",
       "    <tr>\n",
       "      <th>118</th>\n",
       "      <td>Metropolitana</td>\n",
       "      <td>13</td>\n",
       "      <td>Pudahuel</td>\n",
       "      <td>13124</td>\n",
       "      <td>253139.0</td>\n",
       "      <td>491.0</td>\n",
       "    </tr>\n",
       "    <tr>\n",
       "      <th>119</th>\n",
       "      <td>Metropolitana</td>\n",
       "      <td>13</td>\n",
       "      <td>Puente Alto</td>\n",
       "      <td>13201</td>\n",
       "      <td>645909.0</td>\n",
       "      <td>1658.0</td>\n",
       "    </tr>\n",
       "    <tr>\n",
       "      <th>120</th>\n",
       "      <td>Metropolitana</td>\n",
       "      <td>13</td>\n",
       "      <td>Quilicura</td>\n",
       "      <td>13125</td>\n",
       "      <td>254694.0</td>\n",
       "      <td>826.0</td>\n",
       "    </tr>\n",
       "    <tr>\n",
       "      <th>121</th>\n",
       "      <td>Metropolitana</td>\n",
       "      <td>13</td>\n",
       "      <td>Quinta Normal</td>\n",
       "      <td>13126</td>\n",
       "      <td>136368.0</td>\n",
       "      <td>459.0</td>\n",
       "    </tr>\n",
       "    <tr>\n",
       "      <th>122</th>\n",
       "      <td>Metropolitana</td>\n",
       "      <td>13</td>\n",
       "      <td>Recoleta</td>\n",
       "      <td>13127</td>\n",
       "      <td>190075.0</td>\n",
       "      <td>1028.0</td>\n",
       "    </tr>\n",
       "    <tr>\n",
       "      <th>123</th>\n",
       "      <td>Metropolitana</td>\n",
       "      <td>13</td>\n",
       "      <td>Renca</td>\n",
       "      <td>13128</td>\n",
       "      <td>160847.0</td>\n",
       "      <td>418.0</td>\n",
       "    </tr>\n",
       "    <tr>\n",
       "      <th>124</th>\n",
       "      <td>Metropolitana</td>\n",
       "      <td>13</td>\n",
       "      <td>San Bernardo</td>\n",
       "      <td>13401</td>\n",
       "      <td>334836.0</td>\n",
       "      <td>773.0</td>\n",
       "    </tr>\n",
       "    <tr>\n",
       "      <th>125</th>\n",
       "      <td>Metropolitana</td>\n",
       "      <td>13</td>\n",
       "      <td>San Joaquin</td>\n",
       "      <td>13129</td>\n",
       "      <td>103485.0</td>\n",
       "      <td>475.0</td>\n",
       "    </tr>\n",
       "    <tr>\n",
       "      <th>126</th>\n",
       "      <td>Metropolitana</td>\n",
       "      <td>13</td>\n",
       "      <td>San Jose de Maipo</td>\n",
       "      <td>13203</td>\n",
       "      <td>18644.0</td>\n",
       "      <td>42.0</td>\n",
       "    </tr>\n",
       "    <tr>\n",
       "      <th>127</th>\n",
       "      <td>Metropolitana</td>\n",
       "      <td>13</td>\n",
       "      <td>San Miguel</td>\n",
       "      <td>13130</td>\n",
       "      <td>133059.0</td>\n",
       "      <td>405.0</td>\n",
       "    </tr>\n",
       "    <tr>\n",
       "      <th>128</th>\n",
       "      <td>Metropolitana</td>\n",
       "      <td>13</td>\n",
       "      <td>San Pedro</td>\n",
       "      <td>13505</td>\n",
       "      <td>11953.0</td>\n",
       "      <td>15.0</td>\n",
       "    </tr>\n",
       "    <tr>\n",
       "      <th>129</th>\n",
       "      <td>Metropolitana</td>\n",
       "      <td>13</td>\n",
       "      <td>San Ramon</td>\n",
       "      <td>13131</td>\n",
       "      <td>86510.0</td>\n",
       "      <td>381.0</td>\n",
       "    </tr>\n",
       "    <tr>\n",
       "      <th>130</th>\n",
       "      <td>Metropolitana</td>\n",
       "      <td>13</td>\n",
       "      <td>Santiago</td>\n",
       "      <td>13101</td>\n",
       "      <td>503147.0</td>\n",
       "      <td>1873.0</td>\n",
       "    </tr>\n",
       "    <tr>\n",
       "      <th>131</th>\n",
       "      <td>Metropolitana</td>\n",
       "      <td>13</td>\n",
       "      <td>Talagante</td>\n",
       "      <td>13601</td>\n",
       "      <td>81838.0</td>\n",
       "      <td>68.0</td>\n",
       "    </tr>\n",
       "    <tr>\n",
       "      <th>132</th>\n",
       "      <td>Metropolitana</td>\n",
       "      <td>13</td>\n",
       "      <td>Tiltil</td>\n",
       "      <td>13303</td>\n",
       "      <td>21477.0</td>\n",
       "      <td>13.0</td>\n",
       "    </tr>\n",
       "    <tr>\n",
       "      <th>133</th>\n",
       "      <td>Metropolitana</td>\n",
       "      <td>13</td>\n",
       "      <td>Vitacura</td>\n",
       "      <td>13132</td>\n",
       "      <td>96774.0</td>\n",
       "      <td>251.0</td>\n",
       "    </tr>\n",
       "  </tbody>\n",
       "</table>\n",
       "</div>"
      ],
      "text/plain": [
       "            Region  Codigo region               Comuna  Codigo comuna  \\\n",
       "82   Metropolitana             13                Alhue          13502   \n",
       "83   Metropolitana             13                 Buin          13402   \n",
       "84   Metropolitana             13      Calera de Tango          13403   \n",
       "85   Metropolitana             13            Cerrillos          13102   \n",
       "86   Metropolitana             13          Cerro Navia          13103   \n",
       "87   Metropolitana             13               Colina          13301   \n",
       "88   Metropolitana             13             Conchali          13104   \n",
       "89   Metropolitana             13             Curacavi          13503   \n",
       "90   Metropolitana             13            El Bosque          13105   \n",
       "91   Metropolitana             13             El Monte          13602   \n",
       "92   Metropolitana             13     Estacion Central          13106   \n",
       "93   Metropolitana             13           Huechuraba          13107   \n",
       "94   Metropolitana             13        Independencia          13108   \n",
       "95   Metropolitana             13        Isla de Maipo          13603   \n",
       "96   Metropolitana             13          La Cisterna          13109   \n",
       "97   Metropolitana             13           La Florida          13110   \n",
       "98   Metropolitana             13            La Granja          13111   \n",
       "99   Metropolitana             13           La Pintana          13112   \n",
       "100  Metropolitana             13             La Reina          13113   \n",
       "101  Metropolitana             13                Lampa          13302   \n",
       "102  Metropolitana             13           Las Condes          13114   \n",
       "103  Metropolitana             13         Lo Barnechea          13115   \n",
       "104  Metropolitana             13            Lo Espejo          13116   \n",
       "105  Metropolitana             13             Lo Prado          13117   \n",
       "106  Metropolitana             13                Macul          13118   \n",
       "107  Metropolitana             13                Maipu          13119   \n",
       "108  Metropolitana             13          Maria Pinto          13504   \n",
       "109  Metropolitana             13            Melipilla          13501   \n",
       "110  Metropolitana             13                Nunoa          13120   \n",
       "111  Metropolitana             13        Padre Hurtado          13604   \n",
       "112  Metropolitana             13                Paine          13404   \n",
       "113  Metropolitana             13  Pedro Aguirre Cerda          13121   \n",
       "114  Metropolitana             13             Penaflor          13605   \n",
       "115  Metropolitana             13            Penalolen          13122   \n",
       "116  Metropolitana             13               Pirque          13202   \n",
       "117  Metropolitana             13          Providencia          13123   \n",
       "118  Metropolitana             13             Pudahuel          13124   \n",
       "119  Metropolitana             13          Puente Alto          13201   \n",
       "120  Metropolitana             13            Quilicura          13125   \n",
       "121  Metropolitana             13        Quinta Normal          13126   \n",
       "122  Metropolitana             13             Recoleta          13127   \n",
       "123  Metropolitana             13                Renca          13128   \n",
       "124  Metropolitana             13         San Bernardo          13401   \n",
       "125  Metropolitana             13          San Joaquin          13129   \n",
       "126  Metropolitana             13    San Jose de Maipo          13203   \n",
       "127  Metropolitana             13           San Miguel          13130   \n",
       "128  Metropolitana             13            San Pedro          13505   \n",
       "129  Metropolitana             13            San Ramon          13131   \n",
       "130  Metropolitana             13             Santiago          13101   \n",
       "131  Metropolitana             13            Talagante          13601   \n",
       "132  Metropolitana             13               Tiltil          13303   \n",
       "133  Metropolitana             13             Vitacura          13132   \n",
       "\n",
       "     Poblacion  Casos Confirmados  \n",
       "82      7405.0                0.0  \n",
       "83    109641.0              152.0  \n",
       "84     28525.0               23.0  \n",
       "85     88956.0              329.0  \n",
       "86    142465.0              387.0  \n",
       "87    180353.0              289.0  \n",
       "88    139195.0              470.0  \n",
       "89     36430.0               35.0  \n",
       "90    172000.0              439.0  \n",
       "91     40014.0               29.0  \n",
       "92    206792.0              679.0  \n",
       "93    112528.0              263.0  \n",
       "94    142065.0              992.0  \n",
       "95     40171.0               20.0  \n",
       "96    100434.0              251.0  \n",
       "97    402433.0             1071.0  \n",
       "98    122557.0              348.0  \n",
       "99    189335.0              561.0  \n",
       "100   100252.0              195.0  \n",
       "101   126898.0              197.0  \n",
       "102   330759.0              738.0  \n",
       "103   124076.0              422.0  \n",
       "104   103865.0              258.0  \n",
       "105   104403.0              329.0  \n",
       "106   134635.0              336.0  \n",
       "107   578605.0              844.0  \n",
       "108    14926.0                3.0  \n",
       "109   141612.0              136.0  \n",
       "110   250192.0              480.0  \n",
       "111    74188.0               96.0  \n",
       "112    82766.0               56.0  \n",
       "113   107803.0              349.0  \n",
       "114   101058.0              102.0  \n",
       "115   266798.0              779.0  \n",
       "116    30433.0               58.0  \n",
       "117   157749.0              372.0  \n",
       "118   253139.0              491.0  \n",
       "119   645909.0             1658.0  \n",
       "120   254694.0              826.0  \n",
       "121   136368.0              459.0  \n",
       "122   190075.0             1028.0  \n",
       "123   160847.0              418.0  \n",
       "124   334836.0              773.0  \n",
       "125   103485.0              475.0  \n",
       "126    18644.0               42.0  \n",
       "127   133059.0              405.0  \n",
       "128    11953.0               15.0  \n",
       "129    86510.0              381.0  \n",
       "130   503147.0             1873.0  \n",
       "131    81838.0               68.0  \n",
       "132    21477.0               13.0  \n",
       "133    96774.0              251.0  "
      ]
     },
     "execution_count": 22,
     "metadata": {},
     "output_type": "execute_result"
    }
   ],
   "source": [
    "df_met=df[df['Region'] == \"Metropolitana\"]\n",
    "df_met"
   ]
  },
  {
   "cell_type": "markdown",
   "metadata": {
    "id": "hOzTRMHwMWrF"
   },
   "source": [
    "### Ordenar"
   ]
  },
  {
   "cell_type": "code",
   "execution_count": 23,
   "metadata": {
    "colab": {
     "base_uri": "https://localhost:8080/",
     "height": 206
    },
    "executionInfo": {
     "elapsed": 6,
     "status": "ok",
     "timestamp": 1709305219327,
     "user": {
      "displayName": "Daniela Opitz (Dani)",
      "userId": "17509437660534230857"
     },
     "user_tz": 180
    },
    "id": "asRATlNlMWrH",
    "outputId": "a42ef32e-ab14-4e7e-db6f-7a85cd86961e"
   },
   "outputs": [
    {
     "data": {
      "text/html": [
       "<div>\n",
       "<style scoped>\n",
       "    .dataframe tbody tr th:only-of-type {\n",
       "        vertical-align: middle;\n",
       "    }\n",
       "\n",
       "    .dataframe tbody tr th {\n",
       "        vertical-align: top;\n",
       "    }\n",
       "\n",
       "    .dataframe thead th {\n",
       "        text-align: right;\n",
       "    }\n",
       "</style>\n",
       "<table border=\"1\" class=\"dataframe\">\n",
       "  <thead>\n",
       "    <tr style=\"text-align: right;\">\n",
       "      <th></th>\n",
       "      <th>Region</th>\n",
       "      <th>Codigo region</th>\n",
       "      <th>Comuna</th>\n",
       "      <th>Codigo comuna</th>\n",
       "      <th>Poblacion</th>\n",
       "      <th>Casos Confirmados</th>\n",
       "    </tr>\n",
       "  </thead>\n",
       "  <tbody>\n",
       "    <tr>\n",
       "      <th>130</th>\n",
       "      <td>Metropolitana</td>\n",
       "      <td>13</td>\n",
       "      <td>Santiago</td>\n",
       "      <td>13101</td>\n",
       "      <td>503147.0</td>\n",
       "      <td>1873.0</td>\n",
       "    </tr>\n",
       "    <tr>\n",
       "      <th>119</th>\n",
       "      <td>Metropolitana</td>\n",
       "      <td>13</td>\n",
       "      <td>Puente Alto</td>\n",
       "      <td>13201</td>\n",
       "      <td>645909.0</td>\n",
       "      <td>1658.0</td>\n",
       "    </tr>\n",
       "    <tr>\n",
       "      <th>97</th>\n",
       "      <td>Metropolitana</td>\n",
       "      <td>13</td>\n",
       "      <td>La Florida</td>\n",
       "      <td>13110</td>\n",
       "      <td>402433.0</td>\n",
       "      <td>1071.0</td>\n",
       "    </tr>\n",
       "    <tr>\n",
       "      <th>122</th>\n",
       "      <td>Metropolitana</td>\n",
       "      <td>13</td>\n",
       "      <td>Recoleta</td>\n",
       "      <td>13127</td>\n",
       "      <td>190075.0</td>\n",
       "      <td>1028.0</td>\n",
       "    </tr>\n",
       "    <tr>\n",
       "      <th>94</th>\n",
       "      <td>Metropolitana</td>\n",
       "      <td>13</td>\n",
       "      <td>Independencia</td>\n",
       "      <td>13108</td>\n",
       "      <td>142065.0</td>\n",
       "      <td>992.0</td>\n",
       "    </tr>\n",
       "  </tbody>\n",
       "</table>\n",
       "</div>"
      ],
      "text/plain": [
       "            Region  Codigo region         Comuna  Codigo comuna  Poblacion  \\\n",
       "130  Metropolitana             13       Santiago          13101   503147.0   \n",
       "119  Metropolitana             13    Puente Alto          13201   645909.0   \n",
       "97   Metropolitana             13     La Florida          13110   402433.0   \n",
       "122  Metropolitana             13       Recoleta          13127   190075.0   \n",
       "94   Metropolitana             13  Independencia          13108   142065.0   \n",
       "\n",
       "     Casos Confirmados  \n",
       "130             1873.0  \n",
       "119             1658.0  \n",
       "97              1071.0  \n",
       "122             1028.0  \n",
       "94               992.0  "
      ]
     },
     "execution_count": 23,
     "metadata": {},
     "output_type": "execute_result"
    }
   ],
   "source": [
    "df_sorted = df_met.sort_values('Casos Confirmados',ascending=False)\n",
    "#df_sorted\n",
    "df_sorted.head(5)"
   ]
  },
  {
   "cell_type": "markdown",
   "metadata": {
    "id": "_IXw78sNMWrK"
   },
   "source": [
    "### Contar"
   ]
  },
  {
   "cell_type": "markdown",
   "metadata": {
    "id": "OHDlRdBsa6BY"
   },
   "source": [
    "¿Cuántas comunas hay por Region"
   ]
  },
  {
   "cell_type": "code",
   "execution_count": 24,
   "metadata": {
    "colab": {
     "base_uri": "https://localhost:8080/"
    },
    "executionInfo": {
     "elapsed": 5,
     "status": "ok",
     "timestamp": 1709305219327,
     "user": {
      "displayName": "Daniela Opitz (Dani)",
      "userId": "17509437660534230857"
     },
     "user_tz": 180
    },
    "id": "TH5SAkoEMWrK",
    "outputId": "9579708d-2a60-4f63-d0d3-225a2031f90c"
   },
   "outputs": [
    {
     "data": {
      "text/plain": [
       "Region\n",
       "Metropolitana         52\n",
       "Valparaíso            38\n",
       "O’Higgins             33\n",
       "Biobío                33\n",
       "Araucanía             32\n",
       "Maule                 30\n",
       "Los Lagos             30\n",
       "Ñuble                 21\n",
       "Coquimbo              15\n",
       "Los Ríos              12\n",
       "Magallanes            11\n",
       "Aysén                 10\n",
       "Antofagasta            9\n",
       "Atacama                9\n",
       "Tarapacá               7\n",
       "Arica y Parinacota     4\n",
       "Name: count, dtype: int64"
      ]
     },
     "execution_count": 24,
     "metadata": {},
     "output_type": "execute_result"
    }
   ],
   "source": [
    "df['Region'].value_counts() #retorna el numero de filas (comunas) por 'Region'"
   ]
  },
  {
   "cell_type": "markdown",
   "metadata": {
    "id": "o86uofN1MWrP"
   },
   "source": [
    "### Visualizar datos"
   ]
  },
  {
   "cell_type": "code",
   "execution_count": 25,
   "metadata": {
    "executionInfo": {
     "elapsed": 4,
     "status": "ok",
     "timestamp": 1709305219327,
     "user": {
      "displayName": "Daniela Opitz (Dani)",
      "userId": "17509437660534230857"
     },
     "user_tz": 180
    },
    "id": "R7DXtus2MWrQ"
   },
   "outputs": [],
   "source": [
    "%matplotlib inline\n",
    "import matplotlib.pyplot as plt"
   ]
  },
  {
   "cell_type": "code",
   "execution_count": 26,
   "metadata": {
    "colab": {
     "base_uri": "https://localhost:8080/"
    },
    "executionInfo": {
     "elapsed": 4,
     "status": "ok",
     "timestamp": 1709305219327,
     "user": {
      "displayName": "Daniela Opitz (Dani)",
      "userId": "17509437660534230857"
     },
     "user_tz": 180
    },
    "id": "AQ-Zi_FsfWw9",
    "outputId": "f7a5ea48-d8d0-4709-b685-7cf24bfd6f65"
   },
   "outputs": [
    {
     "data": {
      "text/plain": [
       "Region\n",
       "Metropolitana    52\n",
       "Valparaíso       38\n",
       "O’Higgins        33\n",
       "Biobío           33\n",
       "Araucanía        32\n",
       "Name: count, dtype: int64"
      ]
     },
     "execution_count": 26,
     "metadata": {},
     "output_type": "execute_result"
    }
   ],
   "source": [
    "comunas_count = df['Region'].value_counts()\n",
    "\n",
    "comunas_count.head()"
   ]
  },
  {
   "cell_type": "code",
   "execution_count": 27,
   "metadata": {
    "colab": {
     "base_uri": "https://localhost:8080/"
    },
    "executionInfo": {
     "elapsed": 4,
     "status": "ok",
     "timestamp": 1709305219327,
     "user": {
      "displayName": "Daniela Opitz (Dani)",
      "userId": "17509437660534230857"
     },
     "user_tz": 180
    },
    "id": "CsdXJs-fa6BZ",
    "outputId": "440192ed-74e6-4f0a-de8b-23a7fdb57b3f"
   },
   "outputs": [
    {
     "data": {
      "text/plain": [
       "Region\n",
       "Metropolitana         52\n",
       "Valparaíso            38\n",
       "O’Higgins             33\n",
       "Biobío                33\n",
       "Araucanía             32\n",
       "Maule                 30\n",
       "Los Lagos             30\n",
       "Ñuble                 21\n",
       "Coquimbo              15\n",
       "Los Ríos              12\n",
       "Magallanes            11\n",
       "Aysén                 10\n",
       "Antofagasta            9\n",
       "Atacama                9\n",
       "Tarapacá               7\n",
       "Arica y Parinacota     4\n",
       "Name: count, dtype: int64"
      ]
     },
     "execution_count": 27,
     "metadata": {},
     "output_type": "execute_result"
    }
   ],
   "source": [
    "comunas_count"
   ]
  },
  {
   "cell_type": "code",
   "execution_count": 28,
   "metadata": {
    "colab": {
     "base_uri": "https://localhost:8080/",
     "height": 542
    },
    "executionInfo": {
     "elapsed": 280,
     "status": "ok",
     "timestamp": 1709305219604,
     "user": {
      "displayName": "Daniela Opitz (Dani)",
      "userId": "17509437660534230857"
     },
     "user_tz": 180
    },
    "id": "pRn_-TzyMWrS",
    "outputId": "45424645-f889-4eea-86e8-2df82c432ce3"
   },
   "outputs": [
    {
     "data": {
      "image/png": "[encoded data removed]",
      "text/plain": [
       "<Figure size 640x480 with 1 Axes>"
      ]
     },
     "metadata": {},
     "output_type": "display_data"
    }
   ],
   "source": [
    "comunas_count.plot(kind='bar');"
   ]
  },
  {
   "cell_type": "markdown",
   "metadata": {
    "id": "r_3ALUyGa6BZ"
   },
   "source": [
    "### Agrupar"
   ]
  },
  {
   "cell_type": "code",
   "execution_count": 29,
   "metadata": {
    "colab": {
     "base_uri": "https://localhost:8080/",
     "height": 423
    },
    "executionInfo": {
     "elapsed": 4,
     "status": "ok",
     "timestamp": 1709305219604,
     "user": {
      "displayName": "Daniela Opitz (Dani)",
      "userId": "17509437660534230857"
     },
     "user_tz": 180
    },
    "id": "ExeGrNKoa6BZ",
    "outputId": "56af5cfd-2d43-49f9-c9d7-5a3adf104a54"
   },
   "outputs": [
    {
     "data": {
      "text/html": [
       "<div>\n",
       "<style scoped>\n",
       "    .dataframe tbody tr th:only-of-type {\n",
       "        vertical-align: middle;\n",
       "    }\n",
       "\n",
       "    .dataframe tbody tr th {\n",
       "        vertical-align: top;\n",
       "    }\n",
       "\n",
       "    .dataframe thead th {\n",
       "        text-align: right;\n",
       "    }\n",
       "</style>\n",
       "<table border=\"1\" class=\"dataframe\">\n",
       "  <thead>\n",
       "    <tr style=\"text-align: right;\">\n",
       "      <th></th>\n",
       "      <th>Region</th>\n",
       "      <th>Casos Confirmados</th>\n",
       "    </tr>\n",
       "  </thead>\n",
       "  <tbody>\n",
       "    <tr>\n",
       "      <th>0</th>\n",
       "      <td>Arica y Parinacota</td>\n",
       "      <td>353.0</td>\n",
       "    </tr>\n",
       "    <tr>\n",
       "      <th>1</th>\n",
       "      <td>Arica y Parinacota</td>\n",
       "      <td>0.0</td>\n",
       "    </tr>\n",
       "    <tr>\n",
       "      <th>2</th>\n",
       "      <td>Arica y Parinacota</td>\n",
       "      <td>0.0</td>\n",
       "    </tr>\n",
       "    <tr>\n",
       "      <th>3</th>\n",
       "      <td>Arica y Parinacota</td>\n",
       "      <td>0.0</td>\n",
       "    </tr>\n",
       "    <tr>\n",
       "      <th>4</th>\n",
       "      <td>Tarapacá</td>\n",
       "      <td>188.0</td>\n",
       "    </tr>\n",
       "    <tr>\n",
       "      <th>...</th>\n",
       "      <td>...</td>\n",
       "      <td>...</td>\n",
       "    </tr>\n",
       "    <tr>\n",
       "      <th>341</th>\n",
       "      <td>Magallanes</td>\n",
       "      <td>858.0</td>\n",
       "    </tr>\n",
       "    <tr>\n",
       "      <th>342</th>\n",
       "      <td>Magallanes</td>\n",
       "      <td>0.0</td>\n",
       "    </tr>\n",
       "    <tr>\n",
       "      <th>343</th>\n",
       "      <td>Magallanes</td>\n",
       "      <td>1.0</td>\n",
       "    </tr>\n",
       "    <tr>\n",
       "      <th>344</th>\n",
       "      <td>Magallanes</td>\n",
       "      <td>0.0</td>\n",
       "    </tr>\n",
       "    <tr>\n",
       "      <th>345</th>\n",
       "      <td>Magallanes</td>\n",
       "      <td>0.0</td>\n",
       "    </tr>\n",
       "  </tbody>\n",
       "</table>\n",
       "<p>346 rows × 2 columns</p>\n",
       "</div>"
      ],
      "text/plain": [
       "                 Region  Casos Confirmados\n",
       "0    Arica y Parinacota              353.0\n",
       "1    Arica y Parinacota                0.0\n",
       "2    Arica y Parinacota                0.0\n",
       "3    Arica y Parinacota                0.0\n",
       "4              Tarapacá              188.0\n",
       "..                  ...                ...\n",
       "341          Magallanes              858.0\n",
       "342          Magallanes                0.0\n",
       "343          Magallanes                1.0\n",
       "344          Magallanes                0.0\n",
       "345          Magallanes                0.0\n",
       "\n",
       "[346 rows x 2 columns]"
      ]
     },
     "execution_count": 29,
     "metadata": {},
     "output_type": "execute_result"
    }
   ],
   "source": [
    "df[['Region', 'Casos Confirmados']]"
   ]
  },
  {
   "cell_type": "code",
   "execution_count": 30,
   "metadata": {
    "colab": {
     "base_uri": "https://localhost:8080/",
     "height": 582
    },
    "executionInfo": {
     "elapsed": 4,
     "status": "ok",
     "timestamp": 1709305219604,
     "user": {
      "displayName": "Daniela Opitz (Dani)",
      "userId": "17509437660534230857"
     },
     "user_tz": 180
    },
    "id": "KyQnEqbMa6BZ",
    "outputId": "241acc53-e279-47e2-b758-b1dd67b6f681"
   },
   "outputs": [
    {
     "data": {
      "text/html": [
       "<div>\n",
       "<style scoped>\n",
       "    .dataframe tbody tr th:only-of-type {\n",
       "        vertical-align: middle;\n",
       "    }\n",
       "\n",
       "    .dataframe tbody tr th {\n",
       "        vertical-align: top;\n",
       "    }\n",
       "\n",
       "    .dataframe thead th {\n",
       "        text-align: right;\n",
       "    }\n",
       "</style>\n",
       "<table border=\"1\" class=\"dataframe\">\n",
       "  <thead>\n",
       "    <tr style=\"text-align: right;\">\n",
       "      <th></th>\n",
       "      <th>Casos Confirmados</th>\n",
       "    </tr>\n",
       "    <tr>\n",
       "      <th>Region</th>\n",
       "      <th></th>\n",
       "    </tr>\n",
       "  </thead>\n",
       "  <tbody>\n",
       "    <tr>\n",
       "      <th>Antofagasta</th>\n",
       "      <td>1001.0</td>\n",
       "    </tr>\n",
       "    <tr>\n",
       "      <th>Araucanía</th>\n",
       "      <td>1462.0</td>\n",
       "    </tr>\n",
       "    <tr>\n",
       "      <th>Arica y Parinacota</th>\n",
       "      <td>353.0</td>\n",
       "    </tr>\n",
       "    <tr>\n",
       "      <th>Atacama</th>\n",
       "      <td>135.0</td>\n",
       "    </tr>\n",
       "    <tr>\n",
       "      <th>Aysén</th>\n",
       "      <td>5.0</td>\n",
       "    </tr>\n",
       "    <tr>\n",
       "      <th>Biobío</th>\n",
       "      <td>930.0</td>\n",
       "    </tr>\n",
       "    <tr>\n",
       "      <th>Coquimbo</th>\n",
       "      <td>149.0</td>\n",
       "    </tr>\n",
       "    <tr>\n",
       "      <th>Los Lagos</th>\n",
       "      <td>569.0</td>\n",
       "    </tr>\n",
       "    <tr>\n",
       "      <th>Los Ríos</th>\n",
       "      <td>207.0</td>\n",
       "    </tr>\n",
       "    <tr>\n",
       "      <th>Magallanes</th>\n",
       "      <td>898.0</td>\n",
       "    </tr>\n",
       "    <tr>\n",
       "      <th>Maule</th>\n",
       "      <td>468.0</td>\n",
       "    </tr>\n",
       "    <tr>\n",
       "      <th>Metropolitana</th>\n",
       "      <td>21264.0</td>\n",
       "    </tr>\n",
       "    <tr>\n",
       "      <th>O’Higgins</th>\n",
       "      <td>215.0</td>\n",
       "    </tr>\n",
       "    <tr>\n",
       "      <th>Tarapacá</th>\n",
       "      <td>547.0</td>\n",
       "    </tr>\n",
       "    <tr>\n",
       "      <th>Valparaíso</th>\n",
       "      <td>998.0</td>\n",
       "    </tr>\n",
       "    <tr>\n",
       "      <th>Ñuble</th>\n",
       "      <td>824.0</td>\n",
       "    </tr>\n",
       "  </tbody>\n",
       "</table>\n",
       "</div>"
      ],
      "text/plain": [
       "                    Casos Confirmados\n",
       "Region                               \n",
       "Antofagasta                    1001.0\n",
       "Araucanía                      1462.0\n",
       "Arica y Parinacota              353.0\n",
       "Atacama                         135.0\n",
       "Aysén                             5.0\n",
       "Biobío                          930.0\n",
       "Coquimbo                        149.0\n",
       "Los Lagos                       569.0\n",
       "Los Ríos                        207.0\n",
       "Magallanes                      898.0\n",
       "Maule                           468.0\n",
       "Metropolitana                 21264.0\n",
       "O’Higgins                       215.0\n",
       "Tarapacá                        547.0\n",
       "Valparaíso                      998.0\n",
       "Ñuble                           824.0"
      ]
     },
     "execution_count": 30,
     "metadata": {},
     "output_type": "execute_result"
    }
   ],
   "source": [
    "df[['Region', 'Casos Confirmados']].groupby('Region').sum()"
   ]
  },
  {
   "cell_type": "code",
   "execution_count": 31,
   "metadata": {
    "colab": {
     "base_uri": "https://localhost:8080/",
     "height": 582
    },
    "executionInfo": {
     "elapsed": 3,
     "status": "ok",
     "timestamp": 1709305219604,
     "user": {
      "displayName": "Daniela Opitz (Dani)",
      "userId": "17509437660534230857"
     },
     "user_tz": 180
    },
    "id": "8HBlSeqQa6BZ",
    "outputId": "24697ecb-6ab4-4f67-fb8d-c4bc4571c946"
   },
   "outputs": [
    {
     "data": {
      "text/html": [
       "<div>\n",
       "<style scoped>\n",
       "    .dataframe tbody tr th:only-of-type {\n",
       "        vertical-align: middle;\n",
       "    }\n",
       "\n",
       "    .dataframe tbody tr th {\n",
       "        vertical-align: top;\n",
       "    }\n",
       "\n",
       "    .dataframe thead th {\n",
       "        text-align: right;\n",
       "    }\n",
       "</style>\n",
       "<table border=\"1\" class=\"dataframe\">\n",
       "  <thead>\n",
       "    <tr style=\"text-align: right;\">\n",
       "      <th></th>\n",
       "      <th>Casos Confirmados</th>\n",
       "    </tr>\n",
       "    <tr>\n",
       "      <th>Region</th>\n",
       "      <th></th>\n",
       "    </tr>\n",
       "  </thead>\n",
       "  <tbody>\n",
       "    <tr>\n",
       "      <th>Antofagasta</th>\n",
       "      <td>1001.0</td>\n",
       "    </tr>\n",
       "    <tr>\n",
       "      <th>Araucanía</th>\n",
       "      <td>1462.0</td>\n",
       "    </tr>\n",
       "    <tr>\n",
       "      <th>Arica y Parinacota</th>\n",
       "      <td>353.0</td>\n",
       "    </tr>\n",
       "    <tr>\n",
       "      <th>Atacama</th>\n",
       "      <td>135.0</td>\n",
       "    </tr>\n",
       "    <tr>\n",
       "      <th>Aysén</th>\n",
       "      <td>5.0</td>\n",
       "    </tr>\n",
       "    <tr>\n",
       "      <th>Biobío</th>\n",
       "      <td>930.0</td>\n",
       "    </tr>\n",
       "    <tr>\n",
       "      <th>Coquimbo</th>\n",
       "      <td>149.0</td>\n",
       "    </tr>\n",
       "    <tr>\n",
       "      <th>Los Lagos</th>\n",
       "      <td>569.0</td>\n",
       "    </tr>\n",
       "    <tr>\n",
       "      <th>Los Ríos</th>\n",
       "      <td>207.0</td>\n",
       "    </tr>\n",
       "    <tr>\n",
       "      <th>Magallanes</th>\n",
       "      <td>898.0</td>\n",
       "    </tr>\n",
       "    <tr>\n",
       "      <th>Maule</th>\n",
       "      <td>468.0</td>\n",
       "    </tr>\n",
       "    <tr>\n",
       "      <th>Metropolitana</th>\n",
       "      <td>21264.0</td>\n",
       "    </tr>\n",
       "    <tr>\n",
       "      <th>O’Higgins</th>\n",
       "      <td>215.0</td>\n",
       "    </tr>\n",
       "    <tr>\n",
       "      <th>Tarapacá</th>\n",
       "      <td>547.0</td>\n",
       "    </tr>\n",
       "    <tr>\n",
       "      <th>Valparaíso</th>\n",
       "      <td>998.0</td>\n",
       "    </tr>\n",
       "    <tr>\n",
       "      <th>Ñuble</th>\n",
       "      <td>824.0</td>\n",
       "    </tr>\n",
       "  </tbody>\n",
       "</table>\n",
       "</div>"
      ],
      "text/plain": [
       "                    Casos Confirmados\n",
       "Region                               \n",
       "Antofagasta                    1001.0\n",
       "Araucanía                      1462.0\n",
       "Arica y Parinacota              353.0\n",
       "Atacama                         135.0\n",
       "Aysén                             5.0\n",
       "Biobío                          930.0\n",
       "Coquimbo                        149.0\n",
       "Los Lagos                       569.0\n",
       "Los Ríos                        207.0\n",
       "Magallanes                      898.0\n",
       "Maule                           468.0\n",
       "Metropolitana                 21264.0\n",
       "O’Higgins                       215.0\n",
       "Tarapacá                        547.0\n",
       "Valparaíso                      998.0\n",
       "Ñuble                           824.0"
      ]
     },
     "execution_count": 31,
     "metadata": {},
     "output_type": "execute_result"
    }
   ],
   "source": [
    "df_sum=df[['Region', 'Casos Confirmados']].groupby('Region').sum()\n",
    "df_sum"
   ]
  },
  {
   "cell_type": "code",
   "execution_count": 32,
   "metadata": {
    "colab": {
     "base_uri": "https://localhost:8080/",
     "height": 578
    },
    "executionInfo": {
     "elapsed": 608,
     "status": "ok",
     "timestamp": 1709305220209,
     "user": {
      "displayName": "Daniela Opitz (Dani)",
      "userId": "17509437660534230857"
     },
     "user_tz": 180
    },
    "id": "NmG7MaKja6Ba",
    "outputId": "a4943c44-a1dc-46b5-b52f-70d39c5d166f"
   },
   "outputs": [
    {
     "data": {
      "text/plain": [
       "<Axes: xlabel='Region'>"
      ]
     },
     "execution_count": 32,
     "metadata": {},
     "output_type": "execute_result"
    },
    {
     "data": {
      "image/png": "[encoded data removed]",
      "text/plain": [
       "<Figure size 640x480 with 1 Axes>"
      ]
     },
     "metadata": {},
     "output_type": "display_data"
    }
   ],
   "source": [
    "df_sum.plot(kind='bar')"
   ]
  },
  {
   "cell_type": "markdown",
   "metadata": {
    "id": "8f_gh3OPMWox"
   },
   "source": [
    "# 2.0 Extra\n",
    "## Series\n",
    "\n",
    "* Una serie es una colección de valores."
   ]
  },
  {
   "cell_type": "code",
   "execution_count": 33,
   "metadata": {
    "colab": {
     "base_uri": "https://localhost:8080/"
    },
    "executionInfo": {
     "elapsed": 10,
     "status": "ok",
     "timestamp": 1709305220209,
     "user": {
      "displayName": "Daniela Opitz (Dani)",
      "userId": "17509437660534230857"
     },
     "user_tz": 180
    },
    "id": "iPBmNQAaMWoz",
    "outputId": "92777624-4e6d-4661-a6cc-887f681f65d2"
   },
   "outputs": [
    {
     "data": {
      "text/plain": [
       "0      Santiago\n",
       "1    Concepción\n",
       "2    Valparaíso\n",
       "dtype: object"
      ]
     },
     "execution_count": 33,
     "metadata": {},
     "output_type": "execute_result"
    }
   ],
   "source": [
    "pd.Series(['Santiago', 'Concepción', 'Valparaíso'])"
   ]
  },
  {
   "cell_type": "markdown",
   "metadata": {
    "id": "f7zqtcBSMWo5"
   },
   "source": [
    "* Están compuestos por un índice y valores"
   ]
  },
  {
   "cell_type": "code",
   "execution_count": 34,
   "metadata": {
    "colab": {
     "base_uri": "https://localhost:8080/"
    },
    "executionInfo": {
     "elapsed": 9,
     "status": "ok",
     "timestamp": 1709305220209,
     "user": {
      "displayName": "Daniela Opitz (Dani)",
      "userId": "17509437660534230857"
     },
     "user_tz": 180
    },
    "id": "u048_R-5MWo5",
    "outputId": "025e89de-fe6b-420c-f649-23521b9cd2cd"
   },
   "outputs": [
    {
     "data": {
      "text/plain": [
       "0    0.25\n",
       "1    0.50\n",
       "2    0.75\n",
       "3    1.00\n",
       "dtype: float64"
      ]
     },
     "execution_count": 34,
     "metadata": {},
     "output_type": "execute_result"
    }
   ],
   "source": [
    "s = pd.Series([0.25, 0.5, 0.75, 1.0])\n",
    "s"
   ]
  },
  {
   "cell_type": "code",
   "execution_count": 35,
   "metadata": {
    "colab": {
     "base_uri": "https://localhost:8080/"
    },
    "executionInfo": {
     "elapsed": 8,
     "status": "ok",
     "timestamp": 1709305220209,
     "user": {
      "displayName": "Daniela Opitz (Dani)",
      "userId": "17509437660534230857"
     },
     "user_tz": 180
    },
    "id": "4sTte3mVMWo9",
    "outputId": "f5429405-91e3-4cb5-e0fd-e23114e9292f"
   },
   "outputs": [
    {
     "data": {
      "text/plain": [
       "RangeIndex(start=0, stop=4, step=1)"
      ]
     },
     "execution_count": 35,
     "metadata": {},
     "output_type": "execute_result"
    }
   ],
   "source": [
    "s.index"
   ]
  },
  {
   "cell_type": "code",
   "execution_count": 36,
   "metadata": {
    "colab": {
     "base_uri": "https://localhost:8080/"
    },
    "executionInfo": {
     "elapsed": 9,
     "status": "ok",
     "timestamp": 1709305220210,
     "user": {
      "displayName": "Daniela Opitz (Dani)",
      "userId": "17509437660534230857"
     },
     "user_tz": 180
    },
    "id": "8qjyEtUtMWpA",
    "outputId": "fb5d3c9e-1d3e-439c-f307-39ae76a3ef01"
   },
   "outputs": [
    {
     "data": {
      "text/plain": [
       "array([0.25, 0.5 , 0.75, 1.  ])"
      ]
     },
     "execution_count": 36,
     "metadata": {},
     "output_type": "execute_result"
    }
   ],
   "source": [
    "s.values"
   ]
  },
  {
   "cell_type": "markdown",
   "metadata": {
    "id": "tRFkItAbMWpE"
   },
   "source": [
    "## Operaciones sobre Series\n",
    "\n",
    "* Operaciones aritméticas a cada elemento de la serie (como un vector de matlab)\n",
    "    * Suma, resta, división, etc...\n",
    "    * Más info en https://pandas.pydata.org/pandas-docs/stable/dsintro.html"
   ]
  },
  {
   "cell_type": "code",
   "execution_count": 37,
   "metadata": {
    "colab": {
     "base_uri": "https://localhost:8080/"
    },
    "executionInfo": {
     "elapsed": 8,
     "status": "ok",
     "timestamp": 1709305220210,
     "user": {
      "displayName": "Daniela Opitz (Dani)",
      "userId": "17509437660534230857"
     },
     "user_tz": 180
    },
    "id": "R_kSf9jZMWpF",
    "outputId": "20cbbedb-2b65-4645-c74e-4000fc432d82"
   },
   "outputs": [
    {
     "data": {
      "text/plain": [
       "0    50.25\n",
       "1    50.50\n",
       "2    50.75\n",
       "3    51.00\n",
       "dtype: float64"
      ]
     },
     "execution_count": 37,
     "metadata": {},
     "output_type": "execute_result"
    }
   ],
   "source": [
    "s + 50 # suma 50 a cada valor de la serie"
   ]
  },
  {
   "cell_type": "code",
   "execution_count": 38,
   "metadata": {
    "colab": {
     "base_uri": "https://localhost:8080/"
    },
    "executionInfo": {
     "elapsed": 8,
     "status": "ok",
     "timestamp": 1709305220210,
     "user": {
      "displayName": "Daniela Opitz (Dani)",
      "userId": "17509437660534230857"
     },
     "user_tz": 180
    },
    "id": "Np-TP2p9MWpK",
    "outputId": "e68347d6-3b03-46a5-a078-67f52970261f"
   },
   "outputs": [
    {
     "data": {
      "text/plain": [
       "0    0.7854\n",
       "1    1.5708\n",
       "2    2.3562\n",
       "3    3.1416\n",
       "dtype: float64"
      ]
     },
     "execution_count": 38,
     "metadata": {},
     "output_type": "execute_result"
    }
   ],
   "source": [
    "s * 3.1416"
   ]
  },
  {
   "cell_type": "markdown",
   "metadata": {
    "id": "5Z0qbzP-MWpP"
   },
   "source": [
    "* También podemos realizar operaciones entre dos series (deben ser del mismo tamaño)"
   ]
  },
  {
   "cell_type": "code",
   "execution_count": 39,
   "metadata": {
    "colab": {
     "base_uri": "https://localhost:8080/"
    },
    "executionInfo": {
     "elapsed": 7,
     "status": "ok",
     "timestamp": 1709305220210,
     "user": {
      "displayName": "Daniela Opitz (Dani)",
      "userId": "17509437660534230857"
     },
     "user_tz": 180
    },
    "id": "oruYrqMMMWpR",
    "outputId": "ce723087-0a46-41b7-ae60-34076bf5fc7e"
   },
   "outputs": [
    {
     "data": {
      "text/plain": [
       "0   -100\n",
       "1    -99\n",
       "2    -98\n",
       "3    -97\n",
       "dtype: int64"
      ]
     },
     "execution_count": 39,
     "metadata": {},
     "output_type": "execute_result"
    }
   ],
   "source": [
    "h = pd.Series([-100, -99, -98, -97])\n",
    "h"
   ]
  },
  {
   "cell_type": "code",
   "execution_count": 40,
   "metadata": {
    "colab": {
     "base_uri": "https://localhost:8080/"
    },
    "executionInfo": {
     "elapsed": 7,
     "status": "ok",
     "timestamp": 1709305220210,
     "user": {
      "displayName": "Daniela Opitz (Dani)",
      "userId": "17509437660534230857"
     },
     "user_tz": 180
    },
    "id": "cdxS0r6YMWpV",
    "outputId": "1e3e7f68-3cd2-43fd-8420-b88cef2bc21c"
   },
   "outputs": [
    {
     "data": {
      "text/plain": [
       "0   -99.75\n",
       "1   -98.50\n",
       "2   -97.25\n",
       "3   -96.00\n",
       "dtype: float64"
      ]
     },
     "execution_count": 40,
     "metadata": {},
     "output_type": "execute_result"
    }
   ],
   "source": [
    "s + h"
   ]
  },
  {
   "cell_type": "markdown",
   "metadata": {
    "id": "4VrToESKMWpa"
   },
   "source": [
    "* Y también se pueden realizar operaciones sobre todos los valores"
   ]
  },
  {
   "cell_type": "code",
   "execution_count": 41,
   "metadata": {
    "colab": {
     "base_uri": "https://localhost:8080/"
    },
    "executionInfo": {
     "elapsed": 6,
     "status": "ok",
     "timestamp": 1709305220210,
     "user": {
      "displayName": "Daniela Opitz (Dani)",
      "userId": "17509437660534230857"
     },
     "user_tz": 180
    },
    "id": "JUCcdIVpMWpb",
    "outputId": "3207e331-ab1f-4091-b719-ec960c9c9d19"
   },
   "outputs": [
    {
     "data": {
      "text/plain": [
       "2.5"
      ]
     },
     "execution_count": 41,
     "metadata": {},
     "output_type": "execute_result"
    }
   ],
   "source": [
    "s.sum()"
   ]
  },
  {
   "cell_type": "code",
   "execution_count": 42,
   "metadata": {
    "colab": {
     "base_uri": "https://localhost:8080/"
    },
    "executionInfo": {
     "elapsed": 6,
     "status": "ok",
     "timestamp": 1709305220210,
     "user": {
      "displayName": "Daniela Opitz (Dani)",
      "userId": "17509437660534230857"
     },
     "user_tz": 180
    },
    "id": "971p6ZUCMWpi",
    "outputId": "2e9a7bb6-7f2e-4342-e313-4bb039a8d27d"
   },
   "outputs": [
    {
     "data": {
      "text/plain": [
       "0.625"
      ]
     },
     "execution_count": 42,
     "metadata": {},
     "output_type": "execute_result"
    }
   ],
   "source": [
    "s.mean()"
   ]
  },
  {
   "cell_type": "code",
   "execution_count": 43,
   "metadata": {
    "colab": {
     "base_uri": "https://localhost:8080/"
    },
    "executionInfo": {
     "elapsed": 6,
     "status": "ok",
     "timestamp": 1709305220210,
     "user": {
      "displayName": "Daniela Opitz (Dani)",
      "userId": "17509437660534230857"
     },
     "user_tz": 180
    },
    "id": "CNMCRnt2MWpm",
    "outputId": "14368383-0a0e-4219-d043-4da0758f8243"
   },
   "outputs": [
    {
     "data": {
      "text/plain": [
       "0.3227486121839514"
      ]
     },
     "execution_count": 43,
     "metadata": {},
     "output_type": "execute_result"
    }
   ],
   "source": [
    "s.std()"
   ]
  },
  {
   "cell_type": "markdown",
   "metadata": {
    "id": "XNTlggegMWpp"
   },
   "source": [
    "## Consultando series\n",
    "\n",
    "* Podemos recuperar elementos de la serie indicando su posición (recuperar el i-ésimo elemento)"
   ]
  },
  {
   "cell_type": "code",
   "execution_count": 44,
   "metadata": {
    "executionInfo": {
     "elapsed": 5,
     "status": "ok",
     "timestamp": 1709305220210,
     "user": {
      "displayName": "Daniela Opitz (Dani)",
      "userId": "17509437660534230857"
     },
     "user_tz": 180
    },
    "id": "U0Lii6ZXMWpr"
   },
   "outputs": [],
   "source": [
    "s = pd.Series([0.25, 0.5, 0.75, 1.0])"
   ]
  },
  {
   "cell_type": "code",
   "execution_count": 45,
   "metadata": {
    "colab": {
     "base_uri": "https://localhost:8080/"
    },
    "executionInfo": {
     "elapsed": 5,
     "status": "ok",
     "timestamp": 1709305220210,
     "user": {
      "displayName": "Daniela Opitz (Dani)",
      "userId": "17509437660534230857"
     },
     "user_tz": 180
    },
    "id": "sFEjarjDMWpt",
    "outputId": "1e8fc842-6bf4-4ae5-8ba8-93935f069133"
   },
   "outputs": [
    {
     "data": {
      "text/plain": [
       "0.75"
      ]
     },
     "execution_count": 45,
     "metadata": {},
     "output_type": "execute_result"
    }
   ],
   "source": [
    "s.loc[2] #recupera el segundo elemento de s"
   ]
  },
  {
   "cell_type": "code",
   "execution_count": 46,
   "metadata": {
    "colab": {
     "base_uri": "https://localhost:8080/"
    },
    "executionInfo": {
     "elapsed": 5,
     "status": "ok",
     "timestamp": 1709305220210,
     "user": {
      "displayName": "Daniela Opitz (Dani)",
      "userId": "17509437660534230857"
     },
     "user_tz": 180
    },
    "id": "gFaAGsq1MWpx",
    "outputId": "e19635ec-d543-43ad-e398-ed5b90dd02cf"
   },
   "outputs": [
    {
     "data": {
      "text/plain": [
       "2    0.75\n",
       "3    1.00\n",
       "dtype: float64"
      ]
     },
     "execution_count": 46,
     "metadata": {},
     "output_type": "execute_result"
    }
   ],
   "source": [
    "s.loc[2:3] # recupera un rango de elementos"
   ]
  },
  {
   "cell_type": "markdown",
   "metadata": {
    "id": "l6osPv2wMWpz"
   },
   "source": [
    "* Y también podemos seleccionar por alguna condición sobre los valores"
   ]
  },
  {
   "cell_type": "code",
   "execution_count": 47,
   "metadata": {
    "colab": {
     "base_uri": "https://localhost:8080/"
    },
    "executionInfo": {
     "elapsed": 4,
     "status": "ok",
     "timestamp": 1709305220210,
     "user": {
      "displayName": "Daniela Opitz (Dani)",
      "userId": "17509437660534230857"
     },
     "user_tz": 180
    },
    "id": "7z00FpNiMWp1",
    "outputId": "1db1536c-a9e0-47ad-81de-1fdd6fa3b2e6"
   },
   "outputs": [
    {
     "data": {
      "text/plain": [
       "1    0.50\n",
       "2    0.75\n",
       "3    1.00\n",
       "dtype: float64"
      ]
     },
     "execution_count": 47,
     "metadata": {},
     "output_type": "execute_result"
    }
   ],
   "source": [
    "s[s > 0.4] # puede usar cualquier operador de comparación"
   ]
  },
  {
   "cell_type": "markdown",
   "metadata": {
    "id": "YcGHcmsEMWp3"
   },
   "source": [
    "* El operador de comparación devuelve una serie de True/False\n",
    "    * Todas las posiciones que son True se seleccionan"
   ]
  },
  {
   "cell_type": "code",
   "execution_count": 48,
   "metadata": {
    "colab": {
     "base_uri": "https://localhost:8080/"
    },
    "executionInfo": {
     "elapsed": 4,
     "status": "ok",
     "timestamp": 1709305220210,
     "user": {
      "displayName": "Daniela Opitz (Dani)",
      "userId": "17509437660534230857"
     },
     "user_tz": 180
    },
    "id": "phlWQUH0MWp4",
    "outputId": "0d940485-7043-4ba0-fca5-a9d361c228fc"
   },
   "outputs": [
    {
     "data": {
      "text/plain": [
       "0    False\n",
       "1     True\n",
       "2     True\n",
       "3     True\n",
       "dtype: bool"
      ]
     },
     "execution_count": 48,
     "metadata": {},
     "output_type": "execute_result"
    }
   ],
   "source": [
    "s > 0.4"
   ]
  },
  {
   "cell_type": "code",
   "execution_count": null,
   "metadata": {
    "executionInfo": {
     "elapsed": 4,
     "status": "ok",
     "timestamp": 1709305220210,
     "user": {
      "displayName": "Daniela Opitz (Dani)",
      "userId": "17509437660534230857"
     },
     "user_tz": 180
    },
    "id": "cRFUAer1a6Bd"
   },
   "outputs": [],
   "source": []
  }
 ],
 "metadata": {
  "colab": {
   "provenance": []
  },
  "kernelspec": {
   "display_name": "Python 3.8 (vizudd)",
   "language": "python",
   "name": "vizudd"
  },
  "language_info": {
   "codemirror_mode": {
    "name": "ipython",
    "version": 3
   },
   "file_extension": ".py",
   "mimetype": "text/x-python",
   "name": "python",
   "nbconvert_exporter": "python",
   "pygments_lexer": "ipython3",
   "version": "3.8.18"
  }
 },
 "nbformat": 4,
 "nbformat_minor": 4
}
